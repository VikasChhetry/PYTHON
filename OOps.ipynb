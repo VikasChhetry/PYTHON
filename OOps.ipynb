{
 "cells": [
  {
   "cell_type": "markdown",
   "metadata": {},
   "source": [
    "Pillars of OOPs\n",
    "\n",
    "● Encapsulation:\n",
    "● Abstraction:\n",
    "● Inheritance:\n",
    "● Polymorphism:\n",
    "\n",
    "class >>>> blueprint/logical opration\n",
    "\n",
    "object>>>>physicle entity\n",
    "\n",
    "class>>>>>   veriable          &          methods\n",
    "\n",
    "            |class veriable             |>class method   @classmethod\n",
    "\n",
    "            |obj veriable               |>obj method  or instance method\n",
    "            \n",
    "            |local veriable             |>static method @staticmethod\n",
    "            \n",
    "self>>>current object ko refrencre krta hai\n",
    "\n",
    "def display(self):\n",
    "\n",
    "    print(self.x)\n",
    "    \n",
    "    ######matlab ye instance method hai\n",
    "\n",
    "\n",
    "function in function kwon as nestad finction\n"
   ]
  },
  {
   "cell_type": "markdown",
   "metadata": {},
   "source": [
    "Types of Inheritance\n",
    "\n",
    "● Single Inheritance\n",
    "● Multi-level Inheritance\n",
    "● Hierarchical Inheritance\n",
    "● Multiple Inheritance"
   ]
  },
  {
   "cell_type": "code",
   "execution_count": null,
   "metadata": {},
   "outputs": [],
   "source": [
    "class A:\n",
    "    x=5\n",
    "    def display(self):\n",
    "        print (\"I am a clas A \")\n",
    "class B(A):   # child class ko bracket ke ander rakhte hai\n",
    "    y=7\n",
    "    def display(self):\n",
    "        print (\"I am a clas B\")\n",
    "B=B()  \n",
    "# B.show()\n",
    "B.display()\n",
    "B.x "
   ]
  },
  {
   "cell_type": "code",
   "execution_count": null,
   "metadata": {},
   "outputs": [],
   "source": [
    "class parent:\n",
    "    age=10\n",
    "    age=30\n",
    "    def display(self):\n",
    "        print (\"I am a gerand father\")\n",
    "# class father:"
   ]
  },
  {
   "cell_type": "markdown",
   "metadata": {},
   "source": [
    "46. Question: Create a base class Animal with a method sound() that prints \"Some sound\".\n",
    "Derive a class Dog from Animal and override the sound() method to print \"Bark\". Instantiate an\n",
    "object of Dog and call the sound() method.\n"
   ]
  },
  {
   "cell_type": "code",
   "execution_count": 3,
   "metadata": {},
   "outputs": [
    {
     "name": "stdout",
     "output_type": "stream",
     "text": [
      "Bark\n",
      "Some sound\n"
     ]
    }
   ],
   "source": [
    "class Animal:\n",
    "    def sound(self):\n",
    "        print (\"Some sound\")\n",
    "class Dog(Animal):\n",
    "    def sound(self):\n",
    "        print(\"Bark\")\n",
    "c=Dog()\n",
    "c.sound()\n",
    "A=Animal()\n",
    "A.sound()\n",
    "\n"
   ]
  },
  {
   "cell_type": "markdown",
   "metadata": {},
   "source": [
    "Multilevel Inheritance"
   ]
  },
  {
   "cell_type": "markdown",
   "metadata": {},
   "source": [
    "\n",
    "\n",
    "47. Question:\n",
    "Create two base classes Swimming with a method swim() that prints \"Swimming\"\n",
    "and Flying with a method fly() that prints \"Flying\". Derive a class Duck from both Swimming and\n",
    "Flying. Instantiate an object of Duck and call both the swim() and fly() methods.\n"
   ]
  },
  {
   "cell_type": "code",
   "execution_count": 8,
   "metadata": {},
   "outputs": [
    {
     "name": "stdout",
     "output_type": "stream",
     "text": [
      "swimming\n",
      "flying\n"
     ]
    }
   ],
   "source": [
    "class Swimming:\n",
    "    def swim(self):\n",
    "        print (\"swimming\")\n",
    "class Flying:        \n",
    "    def fly(self):\n",
    "        print (\"flying\")\n",
    "class Duck(Swimming,Flying):\n",
    "    pass\n",
    "c=Duck()\n",
    "c.swim()\n",
    "c.fly()\n"
   ]
  },
  {
   "cell_type": "markdown",
   "metadata": {},
   "source": [
    "\n",
    "48. Question: Create a base class LivingBeing with a method live() that prints \"Living\". Derive a\n",
    "class Animal from LivingBeing and add a method breathe() that prints \"Breathing\". Derive a\n",
    "class Human from Animal and add a method speak() that prints \"Speaking\". Instantiate an\n",
    "object of Human and call all three methods (live(), breathe(), and speak())"
   ]
  },
  {
   "cell_type": "code",
   "execution_count": 9,
   "metadata": {},
   "outputs": [
    {
     "name": "stdout",
     "output_type": "stream",
     "text": [
      "Living\n",
      "Speaking\n",
      "Breathing\n"
     ]
    }
   ],
   "source": [
    "class LivingBeing:\n",
    "    def live(self):\n",
    "        print(\"Living\")\n",
    "class Animal(LivingBeing):\n",
    "    def breathe(self):\n",
    "        print(\"Breathing\")\n",
    "class Human(Animal):\n",
    "    def speak(self):\n",
    "        print(\"Speaking\")\n",
    "c=Human()\n",
    "c.live()\n",
    "c.breathe()                \n",
    "c.speak()\n"
   ]
  },
  {
   "cell_type": "markdown",
   "metadata": {},
   "source": [
    "without closser ther is no decorator formation"
   ]
  },
  {
   "cell_type": "code",
   "execution_count": 13,
   "metadata": {},
   "outputs": [
    {
     "name": "stdout",
     "output_type": "stream",
     "text": [
      "<function outer.<locals>.inner at 0x000002A739964680>\n",
      "10\n"
     ]
    }
   ],
   "source": [
    "def outer():\n",
    "    x=10\n",
    "    def inner():\n",
    "        print(x)\n",
    "    return inner\n",
    "y=outer()\n",
    "print(y)\n",
    "y()        \n"
   ]
  },
  {
   "cell_type": "markdown",
   "metadata": {},
   "source": [
    "#Function as an Argument pass kiya hai"
   ]
  },
  {
   "cell_type": "code",
   "execution_count": 39,
   "metadata": {},
   "outputs": [
    {
     "name": "stdout",
     "output_type": "stream",
     "text": [
      "*******\n",
      "VIKAS\n",
      "*******\n"
     ]
    }
   ],
   "source": [
    "'''def upper(func):\n",
    "    def inner():\n",
    "        print(\"*******\")  \n",
    "        func()\n",
    "        print(\"*******\")\n",
    "    return inner\n",
    "def name():\n",
    "    print(\"vikas\")        \n",
    "y=upper(name)\n",
    "y()'''\n",
    "in upper case, the function\n",
    "\n",
    "def upper(func):\n",
    "    def inner():\n",
    "        print(\"*******\")  \n",
    "        y=func()\n",
    "        print(y.upper())\n",
    "        print(\"*******\")\n",
    "    return inner\n",
    "def name():\n",
    "    return \"vikas\"        \n",
    "y=upper(name)\n",
    "y()"
   ]
  },
  {
   "cell_type": "code",
   "execution_count": 54,
   "metadata": {},
   "outputs": [
    {
     "name": "stdout",
     "output_type": "stream",
     "text": [
      "hi hero\n"
     ]
    }
   ],
   "source": [
    "#DECORETOR>> kise bhi function ko decorate kr de na\n",
    "def outer(funcc):\n",
    "    def inner(st):\n",
    "        y=funcc(st)\n",
    "        return \"hi \"+ st\n",
    "        # print(\"Hi.\")\n",
    "        # st=input(\"enter the name: \")\n",
    "        # print(st)\n",
    "    return inner\n",
    "@outer    \n",
    "def my_name(st):\n",
    "    return st\n",
    "y=outer(my_name)\n",
    "print(y(\"hero\"))\n"
   ]
  },
  {
   "cell_type": "code",
   "execution_count": 71,
   "metadata": {},
   "outputs": [
    {
     "name": "stdout",
     "output_type": "stream",
     "text": [
      "['RAM', 'HARSHIT', 'BABA YAGA', 'DON', 'RAONE']\n",
      "['ram', 'harshit', 'baba yaga', 'don', 'raone']\n"
     ]
    }
   ],
   "source": [
    "# list1=[\"ram\",\"harshit\",\"baba yaga\",\"don\",\"raOne\"]\n",
    "# def outer(funcc):\n",
    "#     def inner(list1):\n",
    "#         y=funcc(list1)\n",
    "#         print(y.upper())\n",
    "#     return inner\n",
    "# @outer\n",
    "# def name(list1):\n",
    "#     return list1\n",
    "# y=outer(list1)\n",
    "# y(list1)  \n",
    "def outer(funcc):\n",
    "    def inner(l):\n",
    "        y=funcc(l)\n",
    "        lis=[]\n",
    "        for i in l:\n",
    "            lis.append(i.upper())\n",
    "        return lis  \n",
    "    return inner\n",
    "@outer\n",
    "def name(l):\n",
    "    return l \n",
    "l=[\"ram\",\"harshit\",\"baba yaga\",\"don\",\"raOne\"]\n",
    "y=name(l)\n",
    "print(y) \n",
    "def outer(funcc):\n",
    "    def inner(l):\n",
    "        y=funcc(l)\n",
    "        lis=[]\n",
    "        for i in l:\n",
    "            lis.append(i.lower())\n",
    "        return lis  \n",
    "    return inner\n",
    "@outer\n",
    "def name(l):\n",
    "    return l \n",
    "l=[\"ram\",\"harshit\",\"baba yaga\",\"don\",\"raOne\"]\n",
    "y=name(l)\n",
    "print(y)    \n",
    "\n"
   ]
  },
  {
   "cell_type": "code",
   "execution_count": 14,
   "metadata": {},
   "outputs": [
    {
     "name": "stdout",
     "output_type": "stream",
     "text": [
      "16\n"
     ]
    }
   ],
   "source": [
    "#a\n",
    "\n",
    "def outer1(func):\n",
    "    def inner(x):\n",
    "        y=func(x)\n",
    "        return y*2\n",
    "    return inner\n",
    "def outer2(func):\n",
    "    def inner(x):\n",
    "        y=func(x)\n",
    "        return y**2 \n",
    "    return inner       \n",
    "@outer2\n",
    "@outer1\n",
    "def msg(n):\n",
    "    return n\n",
    "y=msg(2) \n",
    "print(y)           "
   ]
  },
  {
   "cell_type": "code",
   "execution_count": 11,
   "metadata": {},
   "outputs": [
    {
     "name": "stdout",
     "output_type": "stream",
     "text": [
      "hi vikas\n"
     ]
    }
   ],
   "source": [
    "def outer(funcc):\n",
    "    def inner(st):\n",
    "        y=funcc(st)\n",
    "        return \"hi \"+ st\n",
    "        # print(\"Hi.\")\n",
    "        # st=input(\"enter the name: \")\n",
    "        # print(st)\n",
    "    return inner\n",
    "@outer    \n",
    "def my_name(st):\n",
    "    return st\n",
    "n=input(\"Enter the name: \")    \n",
    "y=my_name(n)\n",
    "print(y)"
   ]
  },
  {
   "cell_type": "markdown",
   "metadata": {},
   "source": [
    "QUESTION::make the word in uppercase and the make it in the form of list"
   ]
  },
  {
   "cell_type": "code",
   "execution_count": 10,
   "metadata": {},
   "outputs": [
    {
     "name": "stdout",
     "output_type": "stream",
     "text": [
      "['V', 'I', 'K', 'A', 'S']\n"
     ]
    }
   ],
   "source": [
    "'''name = input(\"enter the name:\")\n",
    "name_=list(name.upper())\n",
    "print(name_)'''\n",
    "\n",
    "       #Or\n",
    "\n",
    "def upper(func):\n",
    "    def inner(x):\n",
    "        y=func(x)\n",
    "        return(y.upper())\n",
    "    return inner\n",
    "\n",
    "def outerlist(func):\n",
    "    def inner(a):\n",
    "        y=func(a)\n",
    "        lis=[]\n",
    "        for i in y:\n",
    "            lis.append(i)\n",
    "        return(lis)\n",
    "\n",
    "    return inner\n",
    "@outerlist\n",
    "@upper\n",
    "def msg(s):\n",
    "    return s\n",
    "n=input(\"enter the number:\")    \n",
    "z=msg(n)\n",
    "print(z)        \n",
    "            \n",
    "\n"
   ]
  }
 ],
 "metadata": {
  "kernelspec": {
   "display_name": ".venv",
   "language": "python",
   "name": "python3"
  },
  "language_info": {
   "codemirror_mode": {
    "name": "ipython",
    "version": 3
   },
   "file_extension": ".py",
   "mimetype": "text/x-python",
   "name": "python",
   "nbconvert_exporter": "python",
   "pygments_lexer": "ipython3",
   "version": "3.12.4"
  }
 },
 "nbformat": 4,
 "nbformat_minor": 2
}
