{
 "cells": [
  {
   "cell_type": "markdown",
   "metadata": {},
   "source": [
    "class mathop:\n",
    "       altributer\n",
    "       methods"
   ]
  },
  {
   "cell_type": "markdown",
   "metadata": {},
   "source": [
    "MULTIPLE INHERITANCE"
   ]
  },
  {
   "cell_type": "code",
   "execution_count": 7,
   "metadata": {},
   "outputs": [
    {
     "name": "stdout",
     "output_type": "stream",
     "text": [
      "I am a clas B\n",
      "I am a clas A \n"
     ]
    },
    {
     "data": {
      "text/plain": [
       "7"
      ]
     },
     "execution_count": 7,
     "metadata": {},
     "output_type": "execute_result"
    }
   ],
   "source": [
    "class A:\n",
    "    x=5\n",
    "    def display(self):\n",
    "        print (\"I am a clas A \")\n",
    "class B(A):   # child class ko bracket ke ander rakhte hai\n",
    "    y=7\n",
    "    def show(self):\n",
    "        print (\"I am a clas B\")\n",
    "B=B()  \n",
    "B.show()\n",
    "B.display()\n",
    "B.x \n",
    "B.y  "
   ]
  },
  {
   "cell_type": "code",
   "execution_count": null,
   "metadata": {},
   "outputs": [],
   "source": [
    "#dimond problem\n",
    "class A:\n",
    "    x=5\n",
    "    def display(self):\n",
    "        print (\"I am a clas A \")\n",
    "class B:   # child class ko bracket ke ander rakhte hai\n",
    "    y=7\n",
    "    def display(self):\n",
    "        print (\"I am a clas B\")\n",
    "class C(A,B): \n",
    "    def display(self):\n",
    "        print (\"I am a clas C\")\n",
    "\n",
    "B=B() \n",
    "C=C()\n",
    "C.display() \n",
    "C.mro()\n",
    "# b.show()\n",
    "B.display()\n",
    "# B.x \n",
    "# B.y"
   ]
  },
  {
   "cell_type": "code",
   "execution_count": 21,
   "metadata": {},
   "outputs": [
    {
     "name": "stdout",
     "output_type": "stream",
     "text": [
      "Son class method\n",
      "Father class method\n",
      "Daughter class method\n",
      "Father class method\n"
     ]
    }
   ],
   "source": [
    "class A:\n",
    "    def _init_(self):\n",
    "        print(\"Father class \")\n",
    "    def show_father(self):\n",
    "        print(\"Father class method\")\n",
    "\n",
    "class B(A):\n",
    "    def _init_(self):\n",
    "        print(\"Son class\")\n",
    "    def show_son(self):\n",
    "        print(\"Son class method\")\n",
    "\n",
    "class C(A):\n",
    "    def _init_(self):\n",
    "        print(\"Daughter class \")\n",
    "    def show_daughter(self):\n",
    "        print(\"Daughter class method\")\n",
    "\n",
    "s = Son()\n",
    "s.show_son()\n",
    "s.show_father()\n",
    "\n",
    "d = Daughter()\n",
    "d.show_daughter()\n",
    "d.show_father()"
   ]
  },
  {
   "cell_type": "code",
   "execution_count": null,
   "metadata": {},
   "outputs": [],
   "source": [
    "class state:\n",
    "    def __init__(self):\n",
    "        print(\"this id the state class\")\n",
    "        self.state_first=\"main State\"\n",
    "class happystate(state):\n",
    "    def __init__(self):\n",
    "        print(\"this is happy state \") \n",
    "        self.statesecond=\"happyState\"\n",
    "        super().__init__()\n",
    "class badstate(state):\n",
    "    def __init__(self):\n",
    "        print(\"this is bad state \")\n",
    "        self.statesecond=\"badState\"\n",
    "        super().__init__()\n",
    "        super(happystate, self).__init__()\n",
    "                    "
   ]
  },
  {
   "cell_type": "code",
   "execution_count": 24,
   "metadata": {},
   "outputs": [
    {
     "data": {
      "text/plain": [
       "16"
      ]
     },
     "execution_count": 24,
     "metadata": {},
     "output_type": "execute_result"
    }
   ],
   "source": [
    "class rectangle:\n",
    "    def __init__(self,l,w):\n",
    "        self.l = l\n",
    "        self.w = w\n",
    "    def area(self):\n",
    "        return self.l*self.w\n",
    "class square(rectangle):\n",
    "    def __init__(self,l):\n",
    "        super().__init__(l,l)   \n",
    "\n",
    "s=square(4)\n",
    "s.area()                 "
   ]
  },
  {
   "cell_type": "markdown",
   "metadata": {},
   "source": [
    "haibrid inharrytense"
   ]
  },
  {
   "cell_type": "code",
   "execution_count": 7,
   "metadata": {},
   "outputs": [
    {
     "name": "stdout",
     "output_type": "stream",
     "text": [
      "I am class D\n"
     ]
    }
   ],
   "source": [
    "class A :    #a is the super class//// child class ke pahlie super class nahi aana chiye\n",
    "    def display(self):\n",
    "        print(\"I am class A\")\n",
    "\n",
    "class B(A) :\n",
    "    def display(self):\n",
    "        print(\"I am class B\")\n",
    "class C(A) :   # c is the child class\n",
    "    def display(self):\n",
    "        print(\"I am class C\")\n",
    "class D(B,C) : \n",
    "    def display(self):\n",
    "        print(\"I am class D\")\n",
    "obj1=D()\n",
    "obj1.display()                       "
   ]
  },
  {
   "cell_type": "code",
   "execution_count": 13,
   "metadata": {},
   "outputs": [
    {
     "name": "stdout",
     "output_type": "stream",
     "text": [
      "vikas\n",
      "23\n"
     ]
    }
   ],
   "source": [
    "class person:\n",
    "    def __init__(self,name,age):\n",
    "        self.name = name\n",
    "        self.age = age\n",
    "    def display(self):\n",
    "        print(self.name)\n",
    "        print(self.age)\n",
    "class student(person):\n",
    "    # def __init__(self,name,rollno,sem,age):\n",
    "    #     super().__init__(name,age)\n",
    "    #     self.rollno=rollno\n",
    "    #     self.sem=sem\n",
    "    def show(self):\n",
    "        # super().display()\n",
    "        print(self.name)\n",
    "        print(self.age) \n",
    "        # print(self.rollno)\n",
    "        # print(self.sem)\n",
    "s=student(\"vikas\",23)\n",
    "s.show()        \n",
    "# class teacher(person):\n",
    "#     def __init__(self,name,age,salary):\n",
    "#         self.name = name\n",
    "#         self.age = age\n",
    "#         self.salary =salary        \n",
    "# c=student(\"vikas\",45,2,12)\n",
    "# c.display()                       \n"
   ]
  },
  {
   "cell_type": "code",
   "execution_count": 14,
   "metadata": {},
   "outputs": [
    {
     "name": "stdout",
     "output_type": "stream",
     "text": [
      "ram\n",
      "23\n"
     ]
    }
   ],
   "source": [
    "class person:\n",
    "    def __init__(self,name,age):\n",
    "        self.__name = name\n",
    "        self.__age = age\n",
    "    def display(self):\n",
    "        print(self.__name)\n",
    "        print(self.__age)\n",
    "s=person(\"ram\",23)\n",
    "s.display()            "
   ]
  },
  {
   "cell_type": "markdown",
   "metadata": {},
   "source": [
    "ABSTRACT CLASSES>>>>>>>>>>>.jisme Abstract method hota hai\n",
    "\n",
    "ABSTRACT METHOD>>>>>>>>>>>>.jisme koi bhi implimantation nahi hota hai\n"
   ]
  },
  {
   "cell_type": "code",
   "execution_count": null,
   "metadata": {},
   "outputs": [],
   "source": [
    "from abc import ABC ,abstractmethod\n",
    "class computer(ABC):\n",
    "    @abstractmethod\n",
    "    def process(self):\n",
    "        pass\n",
    "class laptop(computer):\n",
    "    def msg(self):\n",
    "        print(\"your message\")\n",
    "l=laptop()\n",
    "l.msg()\n",
    "\n"
   ]
  },
  {
   "cell_type": "code",
   "execution_count": 30,
   "metadata": {},
   "outputs": [
    {
     "name": "stdout",
     "output_type": "stream",
     "text": [
      "the area is : 50.24\n",
      "the perimeter is: 25.12\n"
     ]
    }
   ],
   "source": [
    "from abc import ABC ,abstractmethod\n",
    "class shape(ABC):\n",
    "    @abstractmethod\n",
    "    def area(self):\n",
    "        pass\n",
    "    @abstractmethod\n",
    "    def perimeter(self):\n",
    "        pass\n",
    "\n",
    "class circle(shape):\n",
    "    def __init__(self,r):\n",
    "        self.r = r\n",
    "    def area(self):\n",
    "        return 3.14*self.r**2\n",
    "    def perimeter(self):\n",
    "        return 2*3.14*self.r  \n",
    "\n",
    "c=circle(4)\n",
    "print(\"the area is :\",c.area())\n",
    "print(\"the perimeter is:\",c.perimeter())              "
   ]
  },
  {
   "cell_type": "code",
   "execution_count": null,
   "metadata": {},
   "outputs": [],
   "source": [
    "from abc import ABC ,abstractmethod\n",
    "class time:\n",
    "    @abstractmethod\n",
    "    def __init__(self,t1,t2):\n",
    "        self.t1=t1\n",
    "        self.t2=t2\n",
    "    def display(self,oth):\n",
    "        s1=self.t1+oth.t1\n",
    "        s2=self.t2+oth.t2\n",
    "        s3=s1+s2\n",
    "        return(s3)\n",
    "\n",
    "c=time(4,52) \n",
    "c1=time(3,23)\n",
    "s3.display()\n",
    "\n",
    "       \n",
    "\n",
    "        \n",
    "    \n",
    "                                                "
   ]
  },
  {
   "cell_type": "code",
   "execution_count": 4,
   "metadata": {},
   "outputs": [
    {
     "ename": "TypeError",
     "evalue": "'OddNumber' object is not an iterator",
     "output_type": "error",
     "traceback": [
      "\u001b[1;31m---------------------------------------------------------------------------\u001b[0m",
      "\u001b[1;31mTypeError\u001b[0m                                 Traceback (most recent call last)",
      "Cell \u001b[1;32mIn[4], line 15\u001b[0m\n\u001b[0;32m     13\u001b[0m \u001b[38;5;66;03m# Example usage:\u001b[39;00m\n\u001b[0;32m     14\u001b[0m iteratore \u001b[38;5;241m=\u001b[39m OddNumber()\n\u001b[1;32m---> 15\u001b[0m \u001b[38;5;28mprint\u001b[39m(\u001b[38;5;28;43mnext\u001b[39;49m\u001b[43m(\u001b[49m\u001b[43miteratore\u001b[49m\u001b[43m)\u001b[49m)  \u001b[38;5;66;03m# Output: 1\u001b[39;00m\n\u001b[0;32m     16\u001b[0m \u001b[38;5;28mprint\u001b[39m(\u001b[38;5;28mnext\u001b[39m(iteratore))  \u001b[38;5;66;03m# Output: 3\u001b[39;00m\n",
      "\u001b[1;31mTypeError\u001b[0m: 'OddNumber' object is not an iterator"
     ]
    }
   ],
   "source": [
    "class OddNumber:\n",
    "    def _init_(self, start=1):\n",
    "        self.current = start\n",
    "        \n",
    "    def _iter_(self):\n",
    "        return self\n",
    "    \n",
    "    def _next_(self):\n",
    "        odd_number = self.current\n",
    "        self.current += 2  # Move to the next odd number\n",
    "        return odd_number\n",
    "\n",
    "# Example usage:\n",
    "iteratore = OddNumber()\n",
    "print(next(iteratore))  # Output: 1\n",
    "print(next(iteratore))  # Output: 3\n"
   ]
  },
  {
   "cell_type": "code",
   "execution_count": 10,
   "metadata": {},
   "outputs": [
    {
     "name": "stdout",
     "output_type": "stream",
     "text": [
      "1\n",
      "3\n",
      "5\n",
      "7\n",
      "9\n",
      "11\n",
      "13\n",
      "15\n",
      "17\n",
      "19\n"
     ]
    }
   ],
   "source": [
    "class OddIterator:\n",
    "    def __init__(self, max_num):\n",
    "        self.max_num = max_num\n",
    "        self.current_num = 1\n",
    "\n",
    "    def __iter__(self):\n",
    "        return self\n",
    "\n",
    "    def __next__(self):\n",
    "        if self.current_num > self.max_num:\n",
    "            raise StopIteration\n",
    "        else:\n",
    "            result = self.current_num\n",
    "            self.current_num += 2\n",
    "            return result\n",
    "\n",
    "# Create an instance of the OddIterator class\n",
    "odd_iterator = OddIterator(20)\n",
    "\n",
    "# Iterate over the odd numbers\n",
    "for num in odd_iterator:\n",
    "    print(num)"
   ]
  },
  {
   "cell_type": "code",
   "execution_count": 11,
   "metadata": {},
   "outputs": [
    {
     "name": "stdout",
     "output_type": "stream",
     "text": [
      "Teacher - Name: Alice, Age: 35, Subject: Mathematics\n",
      "Student - Name: Bob, Age: 20, Student ID: S12345\n"
     ]
    }
   ],
   "source": [
    "# Define the base class Person\n",
    "class Person:\n",
    "    def __init__(self, name, age):\n",
    "        self.name = name\n",
    "        self.age = age\n",
    "\n",
    "    def __str__(self):\n",
    "        return f\"Name: {self.name}, Age: {self.age}\"\n",
    "\n",
    "# Define the Teacher class that inherits from Person\n",
    "class Teacher(Person):\n",
    "    def __init__(self, name, age, subject):\n",
    "        super().__init__(name, age)\n",
    "        self.subject = subject\n",
    "\n",
    "    def __str__(self):\n",
    "        return f\"Teacher - {super().__str__()}, Subject: {self.subject}\"\n",
    "\n",
    "# Define the Student class that inherits from Person\n",
    "class Student(Person):\n",
    "    def __init__(self, name, age, student_id):\n",
    "        super().__init__(name, age)\n",
    "        self.student_id = student_id\n",
    "\n",
    "    def __str__(self):\n",
    "        return f\"Student - {super().__str__()}, Student ID: {self.student_id}\"\n",
    "\n",
    "# Example usage\n",
    "# Create a Teacher object\n",
    "teacher = Teacher(\"Alice\", 35, \"Mathematics\")\n",
    "print(teacher)  # Output: Teacher - Name: Alice, Age: 35, Subject: Mathematics\n",
    "\n",
    "# Create a Student object\n",
    "student = Student(\"Bob\", 20, \"S12345\")\n",
    "print(student)  # Output: Student - Name: Bob, Age: 20, Student ID: S12345\n",
    "\n"
   ]
  }
 ],
 "metadata": {
  "kernelspec": {
   "display_name": ".venv",
   "language": "python",
   "name": "python3"
  },
  "language_info": {
   "codemirror_mode": {
    "name": "ipython",
    "version": 3
   },
   "file_extension": ".py",
   "mimetype": "text/x-python",
   "name": "python",
   "nbconvert_exporter": "python",
   "pygments_lexer": "ipython3",
   "version": "3.12.4"
  }
 },
 "nbformat": 4,
 "nbformat_minor": 2
}
