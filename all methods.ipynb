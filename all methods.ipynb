{
 "cells": [
  {
   "cell_type": "code",
   "execution_count": 9,
   "metadata": {},
   "outputs": [
    {
     "name": "stdout",
     "output_type": "stream",
     "text": [
      "1\n",
      "2\n",
      "6\n",
      "24\n",
      "120\n",
      "720\n",
      "5040\n",
      "40320\n",
      "362880\n",
      "3628800\n"
     ]
    }
   ],
   "source": [
    "def fact (n):\n",
    "    f=1\n",
    "    for i in range(1,n+1):\n",
    "        f=f*i\n",
    "    return f\n",
    "for i in range(1,11):\n",
    "    y=fact(i)\n",
    "    print(y)    "
   ]
  },
  {
   "cell_type": "markdown",
   "metadata": {},
   "source": [
    "Fibonacci sequence"
   ]
  },
  {
   "cell_type": "code",
   "execution_count": null,
   "metadata": {},
   "outputs": [],
   "source": [
    "def fibonacci(n):\n",
    "    seq = [0, 1]  # First two terms of Fibonacci sequence\n",
    "    for i in range(2, n):\n",
    "        seq.append(seq[i-1] + seq[i-2])\n",
    "    return seq\n",
    "\n",
    "output = fibonacci(8)\n",
    "print(output)\n",
    "#or\n",
    "'''a=0\n",
    "b=1\n",
    "print(a,end=\" \")\n",
    "print(b,end=\" \")\n",
    "i=1\n",
    "while(a<=6):\n",
    "    c=a+b\n",
    "    a=b\n",
    "    b=c\n",
    "    i=i+1\n",
    "    print(c,end=\" \")'''\n",
    "#or in function\n",
    "'''def function(n):\n",
    "    a=0\n",
    "    b=1\n",
    "    print(a,end=\" \")\n",
    "    print(b,end=\" \")\n",
    "    i=1\n",
    "    while(a<=n-2):\n",
    "        c=a+b\n",
    "        #print(c)\n",
    "        a=b\n",
    "        b=c\n",
    "        i=i+1\n",
    "        print(c,end=\" \")'''\n",
    "function(i)\n",
    "#int terms of recurstion\n",
    "#it can not generate whole serise soo, we will do in range form\n",
    "def rec(n):\n",
    "    if n==1:\n",
    "        return 0\n",
    "    if n==2:\n",
    "        return 1    \n",
    "    return rec(n-2)+rec(n-1)    \n",
    "for i in range(1,9):\n",
    "    y= rec(i)\n",
    "    print(y,end=\" \")        \n",
    "    \n"
   ]
  },
  {
   "cell_type": "markdown",
   "metadata": {},
   "source": [
    "LOCAL & GLOBLE VERIABLE IN FUNCTION "
   ]
  },
  {
   "cell_type": "code",
   "execution_count": null,
   "metadata": {},
   "outputs": [
    {
     "name": "stdout",
     "output_type": "stream",
     "text": [
      "local 5\n",
      "globle 10\n"
     ]
    }
   ],
   "source": [
    "x=10\n",
    "def love():\n",
    "    x=5\n",
    "    print(\"local\",x)\n",
    "love()\n",
    "x=10\n",
    "def love():\n",
    "    print(\"globle\",x)\n",
    "love()\n"
   ]
  },
  {
   "cell_type": "code",
   "execution_count": null,
   "metadata": {},
   "outputs": [
    {
     "name": "stdout",
     "output_type": "stream",
     "text": [
      "300\n"
     ]
    }
   ],
   "source": [
    "x=100\n",
    "def love():\n",
    "    x=200\n",
    "    def hate():\n",
    "        x=300\n",
    "        print(x)\n",
    "    hate()    \n",
    "love()    "
   ]
  },
  {
   "cell_type": "markdown",
   "metadata": {},
   "source": [
    "RECURSION"
   ]
  },
  {
   "cell_type": "markdown",
   "metadata": {},
   "source": [
    "QUESTION::::\n",
    "5!=5*4!   120\n",
    "4!=4*3!   24\n",
    "3!=3*2!   6\n",
    "2!=2*1!   2\n",
    "1!=1  #WHERE 1 IS THE BASE CONDITION\n"
   ]
  },
  {
   "cell_type": "code",
   "execution_count": null,
   "metadata": {},
   "outputs": [
    {
     "name": "stdout",
     "output_type": "stream",
     "text": [
      "120\n"
     ]
    }
   ],
   "source": [
    "def ret_fact(n):\n",
    "    if n==1:\n",
    "        return 1\n",
    "    return (n*ret_fact(n-1))\n",
    "y=ret_fact(5)\n",
    "print(y)        "
   ]
  },
  {
   "cell_type": "code",
   "execution_count": null,
   "metadata": {},
   "outputs": [
    {
     "name": "stdout",
     "output_type": "stream",
     "text": [
      "2401\n"
     ]
    }
   ],
   "source": [
    "# a^p\n",
    "def fun(a,p):\n",
    "    if p==0:\n",
    "        return 1\n",
    "    return (a)*(fun(a,p-1) )\n",
    "y = fun(7,4)       \n",
    "print(y)"
   ]
  },
  {
   "cell_type": "markdown",
   "metadata": {},
   "source": [
    "ANONYMOUS /LAMBDA FUNCTION"
   ]
  },
  {
   "cell_type": "code",
   "execution_count": null,
   "metadata": {},
   "outputs": [
    {
     "name": "stdout",
     "output_type": "stream",
     "text": [
      "7\n"
     ]
    }
   ],
   "source": [
    "def funname(a,b):\n",
    "    c=a+b\n",
    "    return c\n",
    "y=lambda a,b:a+b\n",
    "y=funname(3,4)\n",
    "print(y)    "
   ]
  },
  {
   "cell_type": "code",
   "execution_count": 11,
   "metadata": {},
   "outputs": [
    {
     "name": "stdout",
     "output_type": "stream",
     "text": [
      "5.0\n"
     ]
    }
   ],
   "source": [
    "#code for finding the avrage value by lambda method\n",
    "\n",
    "def avg(a,b,c):\n",
    "    return (a.sum() + b.sum() + c.sum())/2\n",
    "y=lambda a,b,c: (a+b+c)/2\n",
    "print(y(2,5,3)) \n",
    "  "
   ]
  },
  {
   "cell_type": "code",
   "execution_count": 12,
   "metadata": {},
   "outputs": [
    {
     "name": "stdout",
     "output_type": "stream",
     "text": [
      "7\n"
     ]
    }
   ],
   "source": [
    "def greater(a,b):\n",
    "\n",
    "    if a>b:\n",
    "        return a\n",
    "    else:\n",
    "        return b    \n",
    "y=lambda a,b:a if a>b else b\n",
    "print(y(2,7))"
   ]
  },
  {
   "cell_type": "markdown",
   "metadata": {},
   "source": [
    "MAP FUNCTION(mapping)"
   ]
  },
  {
   "cell_type": "code",
   "execution_count": null,
   "metadata": {},
   "outputs": [
    {
     "name": "stdout",
     "output_type": "stream",
     "text": [
      "[1, 4, 9, 16, 25, 36, 49, 64, 81, 100, 121]\n"
     ]
    }
   ],
   "source": [
    "#SYNTAX\n",
    "#y=list(map(def of function , iterable)) where def of function will be any function and   iterable can be any list\n",
    "# mapping by def fuction\n",
    "lis={1,2,3,4,5,6,7,8,9,10,11}\n",
    "def sq(n):\n",
    "    return n**2\n",
    "y=list(map(sq, lis)) \n",
    "print(y) \n",
    "\n",
    "# lis=[\"1\",\"2\",\"3\"]\n",
    "# numbers=list(map(int, lis))\n",
    "# print(numbers)\n",
    "\n"
   ]
  },
  {
   "cell_type": "markdown",
   "metadata": {},
   "source": [
    "How to write lambda function"
   ]
  },
  {
   "cell_type": "code",
   "execution_count": 13,
   "metadata": {},
   "outputs": [
    {
     "name": "stdout",
     "output_type": "stream",
     "text": [
      "9\n",
      "3\n"
     ]
    }
   ],
   "source": [
    "# for adding tow numbers\n",
    "def lambda_function(a,b):\n",
    "    return a+b\n",
    "y=lambda a,b: a+b\n",
    "y=lambda a,b: a*a\n",
    "print(y(3,4))   \n",
    "#for multipling two numbers\n",
    "def fun(a,b): \n",
    "    if a>b: \n",
    "        return a\n",
    "    else: \n",
    "        return b\n",
    "y= lambda a,b: a if a>b else b\n",
    "print(y(2,3))"
   ]
  },
  {
   "cell_type": "code",
   "execution_count": 14,
   "metadata": {},
   "outputs": [
    {
     "name": "stdout",
     "output_type": "stream",
     "text": [
      "[545]\n"
     ]
    }
   ],
   "source": [
    "#split finction\n",
    "n= input(\"enter the numbers:\")\n",
    "p=n.split(\",\")\n",
    "y=list(map(int,p)) \n",
    "print(y)"
   ]
  },
  {
   "cell_type": "code",
   "execution_count": 15,
   "metadata": {},
   "outputs": [
    {
     "name": "stdout",
     "output_type": "stream",
     "text": [
      "[2, 4, 6, 8, 10, 12]\n"
     ]
    }
   ],
   "source": [
    "#filter\n",
    "#  y=list(filter(even,list))\n",
    "#find out the new list that have even and odd element numbers\n",
    "lst=[1,2,3,4,5,6,7,8,9,10,11,12,13]\n",
    "def even(n):\n",
    "    if n%2==0:\n",
    "        return True\n",
    "y=list(filter(even,lst))\n",
    "print(y)        "
   ]
  },
  {
   "cell_type": "code",
   "execution_count": 1,
   "metadata": {},
   "outputs": [
    {
     "name": "stdout",
     "output_type": "stream",
     "text": [
      "[1, 3, 5, 7, 9, 11, 13]\n"
     ]
    }
   ],
   "source": [
    "lst=[1,2,3,4,5,6,7,8,9,10,11,12,13]\n",
    "def odd(n):\n",
    "    if n%2!=0:\n",
    "        return True\n",
    "y=list(filter(odd,lst))\n",
    "print(y) "
   ]
  },
  {
   "cell_type": "code",
   "execution_count": null,
   "metadata": {},
   "outputs": [],
   "source": [
    "lst=input()\n",
    "def even(n):\n",
    "    if n%2==0:\n",
    "        return True\n",
    "y=list(filter(even,lst))\n",
    "print(y) "
   ]
  },
  {
   "cell_type": "code",
   "execution_count": null,
   "metadata": {},
   "outputs": [],
   "source": []
  },
  {
   "cell_type": "code",
   "execution_count": 1,
   "metadata": {},
   "outputs": [
    {
     "name": "stdout",
     "output_type": "stream",
     "text": [
      "String is How are you?\n",
      "are\n",
      "w a\n",
      "you\n",
      "uoy\n",
      "you?\n"
     ]
    }
   ],
   "source": [
    "str = \"How are you?\"\n",
    "print(\"String is\", str)\n",
    "# print 'are' in String using Slicing with Positive Index\n",
    "print(str[4:7])\n",
    "# print 'w a' in String using Slicing with Positive Index\n",
    "print(str[2:5])\n",
    "# print 'you' in String using Slicing with Negative Index\n",
    "print(str[-4:-1:1])\n",
    "# print 'uoy' in the string using slicing and Negative indexes and negative step\n",
    "print(str[10:7:-1])\n",
    "# print 'you?' in String using Slicing with Negative Index\n",
    "print(str[-4:])\n"
   ]
  }
 ],
 "metadata": {
  "kernelspec": {
   "display_name": "Python 3",
   "language": "python",
   "name": "python3"
  },
  "language_info": {
   "codemirror_mode": {
    "name": "ipython",
    "version": 3
   },
   "file_extension": ".py",
   "mimetype": "text/x-python",
   "name": "python",
   "nbconvert_exporter": "python",
   "pygments_lexer": "ipython3",
   "version": "3.12.4"
  }
 },
 "nbformat": 4,
 "nbformat_minor": 2
}
