{
 "cells": [
  {
   "cell_type": "code",
   "execution_count": 1,
   "metadata": {},
   "outputs": [],
   "source": [
    "from tkinter import *\n",
    "win=Tk()   #this is a class\n",
    "win.mainloop()"
   ]
  },
  {
   "cell_type": "code",
   "execution_count": null,
   "metadata": {},
   "outputs": [],
   "source": [
    "from tkinter import *\n",
    "win=Tk()   #this is a class\n",
    "win.geometry('600x400')\n",
    "# win.resizable(0,0)\n",
    "win.title(\"SWITCHBLADE\")\n",
    "# lbl.pack()\n",
    "#first entry\n",
    "lbl=Label(win,text=\"Your Name\",font=('Arial',20))\n",
    "lbl.config(fg=\"black\",bg=\"red\")\n",
    "lbl.grid(row=0,column=0,padx=10,pady=10)\n",
    "ent1=Entry(win,font=('Arial',20))\n",
    "ent1.grid(row=0,column=1,padx=10,pady=10)\n",
    "\n",
    "#second entry \n",
    "\n",
    "lbl1=Label(win,text=\"Your Roll no.\",font=('Arial',20))\n",
    "lbl1.config(fg=\"black\",bg=\"light blue\")\n",
    "lbl1.grid(row=1,column=0,padx=10,pady=10)\n",
    "ent2=Entry(win,font=('Arial',20))\n",
    "ent2.grid(row=1,column=1,padx=10,pady=10)\n",
    "\n",
    "#third entry\n",
    "\n",
    "lbl2=Label(win,text=\"Gender\",font=('Arial',20))\n",
    "lbl2.config(fg=\"black\",bg=\"red\")\n",
    "lbl2.grid(row=2,column=0,padx=10,pady=10)\n",
    "#radio button\n",
    "     #for male\n",
    "a=StringVar()\n",
    "a.set(\" \")\n",
    "rad=Radiobutton(win,text=\"male\",font=(\"Jokerman\",20),variable=a,value=\"male\")\n",
    "rad.grid(row=2,column=1,padx=70,pady=10,sticky=\"w\")\n",
    "#radio button \n",
    "     #for female\n",
    "rad1=Radiobutton(win,text=\"Female\",font=(\"Jokerman\",20),variable=a,value=\"Female\")\n",
    "rad1.grid(row=2,column=1,padx=70,pady=10,sticky=\"e\")  \n",
    "\n",
    "#forth entry\n",
    "\n",
    "lbl2=Label(win,text=\"Language\",font=('Arial',20))\n",
    "lbl2.config(fg=\"black\",bg=\"red\")\n",
    "lbl2.grid(row=3,column=0,padx=10,pady=10)\n",
    "#LABLE FOR LANGUAGE\n",
    "c=BooleanVar()\n",
    "chk1=Checkbutton(win,text=\"C\",font=(\"Arial\",20),variable=c)\n",
    "chk1.grid(row=3,column=1,padx=10,pady=10,sticky=\"w\")\n",
    "\n",
    "d=BooleanVar()\n",
    "chk1=Checkbutton(win,text=\"C++\",font=(\"Arial\",20),variable=d)\n",
    "chk1.grid(row=3,column=1,padx=70,pady=10,sticky=\"w\")\n",
    "\n",
    "e=BooleanVar()\n",
    "chk1=Checkbutton(win,text=\"Python\",font=(\"Arial\",20),variable=e)\n",
    "chk1.grid(row=3,column=1,padx=155,pady=10,sticky=\"w\")\n",
    "\n",
    "#fifth entry\n",
    "\n",
    "def click():\n",
    "    print(\"I am done\")\n",
    "but=Button(win,text=\"Submit\",font=(\"Arial\",20),command=click)\n",
    "but.grid(row=6,column=0,columnspan=2,pady=20)\n",
    "\n",
    "win.mainloop()"
   ]
  },
  {
   "cell_type": "code",
   "execution_count": 2,
   "metadata": {},
   "outputs": [
    {
     "name": "stdout",
     "output_type": "stream",
     "text": [
      "Requirement already satisfied: tkcalendar in d:\\python\\.venv\\lib\\site-packages (1.6.1)\n",
      "Requirement already satisfied: babel in d:\\python\\.venv\\lib\\site-packages (from tkcalendar) (2.15.0)\n"
     ]
    }
   ],
   "source": [
    "!pip install tkcalendar"
   ]
  },
  {
   "cell_type": "code",
   "execution_count": 1,
   "metadata": {},
   "outputs": [],
   "source": [
    "from tkinter import*\n",
    "from tkcalendar import DateEntry\n",
    "\n",
    "win=Tk()\n",
    "win.title(\"Data Picker Example\")\n",
    "win.geometry(\"800x200\")\n",
    "\n",
    "data_entry = DateEntry(win)\n",
    "data_entry.pack()\n",
    "win.mainloop()"
   ]
  },
  {
   "cell_type": "code",
   "execution_count": null,
   "metadata": {},
   "outputs": [],
   "source": [
    "import numpy as np"
   ]
  },
  {
   "cell_type": "markdown",
   "metadata": {},
   "source": [
    "MAKING AN RECTANGLE"
   ]
  },
  {
   "cell_type": "code",
   "execution_count": 5,
   "metadata": {},
   "outputs": [],
   "source": [
    "from tkinter import*\n",
    "root = Tk()\n",
    "root.title(\"Canvas Example\")\n",
    "canvas = Canvas(root,width=800,height=600)\n",
    "canvas.pack()\n",
    "canvas.create_line(0,0,200,100)\n",
    "canvas.create_rectangle(50,50,150,150,fill=\"blue\")\n",
    "root.mainloop()"
   ]
  },
  {
   "cell_type": "code",
   "execution_count": null,
   "metadata": {},
   "outputs": [],
   "source": [
    "!pip install numpy"
   ]
  },
  {
   "cell_type": "code",
   "execution_count": 9,
   "metadata": {},
   "outputs": [],
   "source": [
    "import numpy as np"
   ]
  },
  {
   "cell_type": "markdown",
   "metadata": {},
   "source": [
    "claculating the sum of 2 numbers\n"
   ]
  },
  {
   "cell_type": "code",
   "execution_count": 2,
   "metadata": {},
   "outputs": [],
   "source": [
    "\n",
    "\n",
    "from tkinter import *\n",
    "\n",
    "# Create the main window\n",
    "window = Tk()\n",
    "window.title(\"Sum Calculator\")\n",
    "window.geometry('800x200')\n",
    "\n",
    "def calculate_sum():\n",
    "    # Get the numbers from the entries\n",
    "    num1 = float(entry1.get())\n",
    "    num2 = float(entry2.get())\n",
    "    \n",
    "    # Calculate the sum\n",
    "    total = num1 + num2\n",
    "    \n",
    "    # Update the result label\n",
    "    result_label.config(text=f\"Sum: {total}\")\n",
    "\n",
    "# First number label and entry\n",
    "label1 = Label(window, text=\"Number 1:\")\n",
    "label1.grid(row=0, column=0, padx=10, pady=5)\n",
    "\n",
    "entry1 = Entry(window)\n",
    "entry1.grid(row=0, column=1, padx=10, pady=5)\n",
    "\n",
    "# Second number label and entry\n",
    "label2 = Label(window, text=\"Number 2:\")\n",
    "label2.grid(row=1, column=0, padx=10, pady=5)\n",
    "\n",
    "entry2 = Entry(window)\n",
    "entry2.grid(row=1, column=1, padx=10, pady=5)\n",
    "\n",
    "# Submit button\n",
    "submit_button = Button(window, text=\"Calculate Sum\", command=calculate_sum)\n",
    "submit_button.grid(row=2, column=0, columnspan=2, pady=10)\n",
    "\n",
    "# Label to show the result\n",
    "result_label = Label(window, text=\"Sum: \")\n",
    "result_label.grid(row=3, column=0, columnspan=2, pady=5)\n",
    "\n",
    "window.mainloop()\n",
    "\n"
   ]
  },
  {
   "cell_type": "markdown",
   "metadata": {},
   "source": [
    "CALCULATOR"
   ]
  },
  {
   "cell_type": "code",
   "execution_count": 1,
   "metadata": {},
   "outputs": [],
   "source": [
    "from tkinter import *\n",
    "\n",
    "# Create the main window\n",
    "window = Tk()\n",
    "window.title(\"Arithmetic Calculator\")\n",
    "window.geometry('800x200')\n",
    "\n",
    "def calculate():\n",
    "    # Get the numbers from the entries\n",
    "    try:\n",
    "        num1 = float(entry1.get())\n",
    "        num2 = float(entry2.get())\n",
    "    except ValueError:\n",
    "        result_label.config(text=\"Please enter valid numbers.\")\n",
    "        return\n",
    "    \n",
    "    # Get the selected operation\n",
    "    operation = operation_var.get()\n",
    "    \n",
    "    # Perform the selected operation\n",
    "    if operation == \"+\":\n",
    "        result = num1 + num2\n",
    "    elif operation == \"-\":\n",
    "        result = num1 - num2\n",
    "    elif operation == \"*\":\n",
    "        result = num1 * num2\n",
    "    elif operation == \"/\":\n",
    "        if num2 == 0:\n",
    "            result_label.config(text=\"Cannot divide by zero.\")\n",
    "            return\n",
    "        result = num1 / num2\n",
    "    else:\n",
    "        result_label.config(text=\"Please select an operation.\")\n",
    "        return\n",
    "    \n",
    "    # Update the result label\n",
    "    result_label.config(text=f\"Result: {result}\")\n",
    "\n",
    "# First number label and entry\n",
    "label1 = Label(window, text=\"Number 1:\")\n",
    "label1.grid(row=0, column=0, padx=10, pady=5)\n",
    "\n",
    "entry1 = Entry(window)\n",
    "entry1.grid(row=0, column=1, padx=10, pady=5)\n",
    "\n",
    "# Second number label and entry\n",
    "label2 = Label(window, text=\"Number 2:\")\n",
    "label2.grid(row=1, column=0, padx=10, pady=5)\n",
    "\n",
    "entry2 = Entry(window)\n",
    "entry2.grid(row=1, column=1, padx=10, pady=5)\n",
    "\n",
    "# Operation label and radio buttons\n",
    "operation_var = StringVar()\n",
    "operation_var.set(\"+\")\n",
    "\n",
    "label3 = Label(window, text=\"Operation:\")\n",
    "label3.grid(row=2, column=0, padx=10, pady=5)\n",
    "\n",
    "operations_frame = Frame(window)\n",
    "operations_frame.grid(row=2, column=1, padx=10, pady=5)\n",
    "\n",
    "radio_add = Radiobutton(operations_frame, text=\"+\", variable=operation_var, value=\"+\")\n",
    "radio_add.pack(side=LEFT)\n",
    "\n",
    "radio_subtract = Radiobutton(operations_frame, text=\"-\", variable=operation_var, value=\"-\")\n",
    "radio_subtract.pack(side=LEFT)\n",
    "\n",
    "radio_multiply = Radiobutton(operations_frame, text=\"*\", variable=operation_var, value=\"*\")\n",
    "radio_multiply.pack(side=LEFT)\n",
    "\n",
    "radio_divide = Radiobutton(operations_frame, text=\"/\", variable=operation_var, value=\"/\")\n",
    "radio_divide.pack(side=LEFT)\n",
    "\n",
    "# Submit button\n",
    "submit_button = Button(window, text=\"Calculate\", command=calculate)\n",
    "submit_button.grid(row=3, column=0, columnspan=2, pady=10)\n",
    "\n",
    "# Label to show the result\n",
    "result_label = Label(window, text=\"Result: \")\n",
    "result_label.grid(row=4, column=0, columnspan=2, pady=5)\n",
    "\n",
    "window.mainloop()"
   ]
  },
  {
   "cell_type": "markdown",
   "metadata": {},
   "source": [
    "ATTRIBUTER"
   ]
  },
  {
   "cell_type": "code",
   "execution_count": 26,
   "metadata": {},
   "outputs": [
    {
     "name": "stdout",
     "output_type": "stream",
     "text": [
      "array=  [[1 4 7 9 5 6]]\n",
      "data type of each elements = int64\n",
      "number of dimensions=  2\n",
      "Size in bytes of each element=  8\n",
      "Size in bytes of Whole element=  48\n",
      "Number of elements=  6\n",
      "Order of array=  (1, 6)\n"
     ]
    }
   ],
   "source": [
    "import numpy as np \n",
    "# lst=[12,3,4,5,67,7]\n",
    "# arr1=np.array(lst)\n",
    "  #or\n",
    "arr1=np.array([[1,4,7,9,5,6]],np.int64) # int8,int16,int32,int64\n",
    "print (\"array= \",arr1)\n",
    "print (\"data type of each elements =\",arr1.dtype) # data type of each elements\n",
    "print(\"number of dimensions= \",arr1.ndim)  #number of dimensions\n",
    "print(\"Size in bytes of each element= \",arr1.itemsize) #Size in bytes of each element\n",
    "print(\"Size in bytes of Whole element= \",arr1.nbytes) #Size in bytes of Whole element\n",
    "print(\"Number of elements= \",arr1.size)  #Number of elements\n",
    "print (\"Order of array= \",arr1.shape)  #Order of array\n"
   ]
  },
  {
   "cell_type": "code",
   "execution_count": null,
   "metadata": {},
   "outputs": [],
   "source": [
    "\n",
    "from tkinter import *\n",
    "\n",
    "# Create the main window\n",
    "window = Tk()\n",
    "window.title(\"Sum Calculator\")\n",
    "window.geometry('800x200')\n",
    "\n",
    "def calculate_sum():\n",
    "    # Get the numbers from the entries\n",
    "    num1 = float(entry1.get())\n",
    "    # num2 = float(entry2.get())\n",
    "    \n",
    "    # Calculate the sum\n",
    "    total = num1 + num2\n",
    "    \n",
    "    # Update the result label\n",
    "    result_label.config(text=f\"Sum: {total}\")\n",
    "\n",
    "# First number label and entry\n",
    "label1 = Label(window, text=\"Number 1:\")\n",
    "label1.grid(row=0, column=0, padx=10, pady=5)\n",
    "\n",
    "entry1 = Entry(window)\n",
    "entry1.grid(row=0, column=1, padx=10, pady=5)\n",
    "\n",
    "# Second number label and entry\n",
    "label2 = Label(window, text=\"Number 2:\")\n",
    "label2.grid(row=1, column=0, padx=10, pady=5)\n",
    "\n",
    "entry2 = Entry(window)\n",
    "entry2.grid(row=1, column=1, padx=10, pady=5)\n",
    "\n",
    "# Submit button\n",
    "submit_button = Button(window, text=\"Calculate Sum\", command=calculate_sum)\n",
    "submit_button.grid(row=2, column=0, columnspan=2, pady=10)\n",
    "\n",
    "# Label to show the result\n",
    "result_label = Label(window, text=\"Sum: \")\n",
    "result_label.grid(row=3, column=0, columnspan=2, pady=5)\n",
    "\n",
    "window.mainloop()"
   ]
  }
 ],
 "metadata": {
  "kernelspec": {
   "display_name": ".venv",
   "language": "python",
   "name": "python3"
  },
  "language_info": {
   "codemirror_mode": {
    "name": "ipython",
    "version": 3
   },
   "file_extension": ".py",
   "mimetype": "text/x-python",
   "name": "python",
   "nbconvert_exporter": "python",
   "pygments_lexer": "ipython3",
   "version": "3.12.4"
  }
 },
 "nbformat": 4,
 "nbformat_minor": 2
}
