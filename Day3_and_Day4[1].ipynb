{
 "cells": [
  {
   "cell_type": "markdown",
   "id": "5c38f2d1-acb4-41c2-b2ba-6023947cf9aa",
   "metadata": {},
   "source": [
    "**Lab Solution 32\n",
    "Define a class Book with instance variables for title, author, and number of pages. Create methods to display the details of the book.**"
   ]
  },
  {
   "cell_type": "code",
   "execution_count": 2,
   "id": "4e740e0e-6c3e-4ecb-9ae0-633b03fde6db",
   "metadata": {},
   "outputs": [
    {
     "name": "stdout",
     "output_type": "stream",
     "text": [
      "Title: To Kill a Mockingbird\n",
      "Author: Harper Lee\n",
      "Number of Pages: 281\n",
      "Title: 1984\n",
      "Author: George Orwell\n",
      "Number of Pages: 328\n"
     ]
    }
   ],
   "source": [
    "class Book:\n",
    "    def __init__(self, title, author, number_of_pages):\n",
    "        self.title = title\n",
    "        self.author = author\n",
    "        self.number_of_pages = number_of_pages\n",
    "    \n",
    "    def display_details(self):\n",
    "        print(f\"Title: {self.title}\")\n",
    "        print(f\"Author: {self.author}\")\n",
    "        print(f\"Number of Pages: {self.number_of_pages}\")\n",
    "\n",
    "# Example usage\n",
    "book1 = Book(\"To Kill a Mockingbird\", \"Harper Lee\", 281)\n",
    "book1.display_details()\n",
    "\n",
    "book2 = Book(\"1984\", \"George Orwell\", 328)\n",
    "book2.display_details()"
   ]
  },
  {
   "cell_type": "markdown",
   "id": "8f5b447f-1b69-4c46-ac2c-39178603ff1f",
   "metadata": {},
   "source": [
    "**solution 33: Create a class Employee with a class variable company_name and instance variables for employee name and ID. Display employee details along with the company name.**\n"
   ]
  },
  {
   "cell_type": "code",
   "execution_count": 3,
   "id": "5a9fe500-1080-48bd-a709-048001e1c930",
   "metadata": {},
   "outputs": [
    {
     "name": "stdout",
     "output_type": "stream",
     "text": [
      "Company Name: Tech Innovators Inc.\n",
      "Employee Name: Alice Johnson\n",
      "Employee ID: E12345\n",
      "Company Name: Tech Innovators Inc.\n",
      "Employee Name: Bob Smith\n",
      "Employee ID: E67890\n"
     ]
    }
   ],
   "source": [
    "class Employee:\n",
    "    # Class variable\n",
    "    company_name = \"Tech Innovators Inc.\"\n",
    "\n",
    "    def __init__(self, employee_name, employee_id):\n",
    "        # Instance variables\n",
    "        self.employee_name = employee_name\n",
    "        self.employee_id = employee_id\n",
    "    \n",
    "    def display_details(self):\n",
    "        # Display employee details along with the company name\n",
    "        print(f\"Company Name: {Employee.company_name}\")\n",
    "        print(f\"Employee Name: {self.employee_name}\")\n",
    "        print(f\"Employee ID: {self.employee_id}\")\n",
    "\n",
    "# Example usage\n",
    "employee1 = Employee(\"Alice Johnson\", \"E12345\")\n",
    "employee1.display_details()\n",
    "\n",
    "employee2 = Employee(\"Bob Smith\", \"E67890\")\n",
    "employee2.display_details()"
   ]
  },
  {
   "cell_type": "markdown",
   "id": "1ec07b08-8bbc-49b2-ad53-f17c8d553007",
   "metadata": {},
   "source": [
    "**solution 34: Develop a class Circle with an instance variable for radius and methods to calculate and return the area and circumference.**"
   ]
  },
  {
   "cell_type": "code",
   "execution_count": 6,
   "id": "5cdb02fe-8ce9-4e53-9533-f6b7976b3064",
   "metadata": {},
   "outputs": [
    {
     "name": "stdout",
     "output_type": "stream",
     "text": [
      "Radius: 5\n",
      "Area: 78.53981633974483\n",
      "Circumference: 31.41592653589793\n",
      "Radius: 10\n",
      "Area: 314.1592653589793\n",
      "Circumference: 62.83185307179586\n"
     ]
    }
   ],
   "source": [
    "import math\n",
    "\n",
    "class Circle:\n",
    "    def __init__(self, radius):\n",
    "        # Instance variable\n",
    "        self.radius = radius\n",
    "    \n",
    "    def calculate_area(self):\n",
    "        # Calculate and return the area of the circle\n",
    "        return math.pi * self.radius ** 2\n",
    "    \n",
    "    def calculate_circumference(self):\n",
    "        # Calculate and return the circumference of the circle\n",
    "        return 2 * math.pi * self.radius\n",
    "\n",
    "# Example usage\n",
    "circle1 = Circle(5)\n",
    "print(f\"Radius: {circle1.radius}\")\n",
    "print(f\"Area: {circle1.calculate_area()}\")\n",
    "print(f\"Circumference: {circle1.calculate_circumference()}\")\n",
    "\n",
    "circle2 = Circle(10)\n",
    "print(f\"Radius: {circle2.radius}\")\n",
    "print(f\"Area: {circle2.calculate_area()}\")\n",
    "print(f\"Circumference: {circle2.calculate_circumference()}\")\n"
   ]
  },
  {
   "cell_type": "markdown",
   "id": "2ec5fa80-298e-42b9-b5cc-2f240c76003e",
   "metadata": {},
   "source": [
    "**Solution 35:Define a class Student with a class variable school_name. Create a class method to change the school's name and an instance method to display student details along with the school name.**"
   ]
  },
  {
   "cell_type": "code",
   "execution_count": 7,
   "id": "d6326261-734a-4bbb-800a-f02314ddd13e",
   "metadata": {},
   "outputs": [
    {
     "name": "stdout",
     "output_type": "stream",
     "text": [
      "School Name: Green Valley High School\n",
      "Student Name: Alice Johnson\n",
      "Student ID: S12345\n",
      "School Name: Blue Mountain High School\n",
      "Student Name: Bob Smith\n",
      "Student ID: S67890\n",
      "School Name: Blue Mountain High School\n",
      "Student Name: Alice Johnson\n",
      "Student ID: S12345\n"
     ]
    }
   ],
   "source": [
    "class Student:\n",
    "    # Class variable\n",
    "    school_name = \"Green Valley High School\"\n",
    "    \n",
    "    def __init__(self, name, student_id):\n",
    "        # Instance variables\n",
    "        self.name = name\n",
    "        self.student_id = student_id\n",
    "    \n",
    "    @classmethod\n",
    "    def change_school_name(cls, new_name):\n",
    "        # Class method to change the school's name\n",
    "        cls.school_name = new_name\n",
    "    \n",
    "    def display_details(self):\n",
    "        # Instance method to display student details along with the school name\n",
    "        print(f\"School Name: {Student.school_name}\")\n",
    "        print(f\"Student Name: {self.name}\")\n",
    "        print(f\"Student ID: {self.student_id}\")\n",
    "\n",
    "# Example usage\n",
    "student1 = Student(\"Alice Johnson\", \"S12345\")\n",
    "student1.display_details()\n",
    "\n",
    "# Change the school name using the class method\n",
    "Student.change_school_name(\"Blue Mountain High School\")\n",
    "\n",
    "student2 = Student(\"Bob Smith\", \"S67890\")\n",
    "student2.display_details()\n",
    "\n",
    "# Display details of the first student again to show updated school name\n",
    "student1.display_details()"
   ]
  },
  {
   "cell_type": "markdown",
   "id": "31d7d1b1-a51d-4af9-955f-ec6fd02dceea",
   "metadata": {},
   "source": [
    "**Solution 36: Implement a class MathOperations with static methods for addition, subtraction, multiplication, and division of two numbers.**"
   ]
  },
  {
   "cell_type": "code",
   "execution_count": 9,
   "id": "12acce75-50bb-4b68-9a9b-3e70e255ca68",
   "metadata": {},
   "outputs": [
    {
     "name": "stdout",
     "output_type": "stream",
     "text": [
      "Addition: 10 + 5 = 15\n",
      "Subtraction: 10 - 5 = 5\n",
      "Multiplication: 10 * 5 = 50\n",
      "Division: 10 / 5 = 2.0\n"
     ]
    }
   ],
   "source": [
    "class MathOperations:\n",
    "    @staticmethod\n",
    "    def add(a, b):\n",
    "        return a + b\n",
    "    \n",
    "    @staticmethod\n",
    "    def subtract(a, b):\n",
    "        return a - b\n",
    "    \n",
    "    @staticmethod\n",
    "    def multiply(a, b):\n",
    "        return a * b\n",
    "    \n",
    "    @staticmethod\n",
    "    def divide(a, b):\n",
    "        if b == 0:\n",
    "            raise ValueError(\"Division by zero is not allowed\")\n",
    "        return a / b\n",
    "\n",
    "# Example usage\n",
    "result_add = MathOperations.add(10, 5)\n",
    "print(f\"Addition: 10 + 5 = {result_add}\")\n",
    "\n",
    "result_subtract = MathOperations.subtract(10, 5)\n",
    "print(f\"Subtraction: 10 - 5 = {result_subtract}\")\n",
    "\n",
    "result_multiply = MathOperations.multiply(10, 5)\n",
    "print(f\"Multiplication: 10 * 5 = {result_multiply}\")\n",
    "\n",
    "result_divide = MathOperations.divide(10, 5)\n",
    "print(f\"Division: 10 / 5 = {result_divide}\")"
   ]
  },
  {
   "cell_type": "markdown",
   "id": "6b389083-9afc-445d-9d4e-a1d877b76915",
   "metadata": {},
   "source": [
    "**Solution 37: Create a class Person with a constructor that initializes the name and age of a person. Add a method to display these details.**"
   ]
  },
  {
   "cell_type": "code",
   "execution_count": 10,
   "id": "2ba9f687-2a29-4cc0-bb75-61ab452ec0d4",
   "metadata": {},
   "outputs": [
    {
     "name": "stdout",
     "output_type": "stream",
     "text": [
      "Name: Alice Johnson\n",
      "Age: 30\n",
      "Name: Bob Smith\n",
      "Age: 25\n"
     ]
    }
   ],
   "source": [
    "class Person:\n",
    "    def __init__(self, name, age):\n",
    "        # Instance variables\n",
    "        self.name = name\n",
    "        self.age = age\n",
    "    \n",
    "    def display_details(self):\n",
    "        # Method to display person's details\n",
    "        print(f\"Name: {self.name}\")\n",
    "        print(f\"Age: {self.age}\")\n",
    "\n",
    "# Example usage\n",
    "person1 = Person(\"Alice Johnson\", 30)\n",
    "person1.display_details()\n",
    "\n",
    "person2 = Person(\"Bob Smith\", 25)\n",
    "person2.display_details()"
   ]
  },
  {
   "cell_type": "markdown",
   "id": "8c42dc02-aa29-47c8-a277-19cefb3ea6ea",
   "metadata": {},
   "source": [
    "**Solution 38:  Develop a class Rectangle with a parameterized constructor that initializes the length and width. Add methods to calculate and return the area and perimeter.**"
   ]
  },
  {
   "cell_type": "code",
   "execution_count": 11,
   "id": "f20e6602-4798-4b9d-8049-6185eb87f856",
   "metadata": {},
   "outputs": [
    {
     "name": "stdout",
     "output_type": "stream",
     "text": [
      "Length: 10\n",
      "Width: 5\n",
      "Area: 50\n",
      "Perimeter: 30\n",
      "Length: 7\n",
      "Width: 3\n",
      "Area: 21\n",
      "Perimeter: 20\n"
     ]
    }
   ],
   "source": [
    "class Rectangle:\n",
    "    def __init__(self, length, width):\n",
    "        # Instance variables\n",
    "        self.length = length\n",
    "        self.width = width\n",
    "    \n",
    "    def calculate_area(self):\n",
    "        # Calculate and return the area of the rectangle\n",
    "        return self.length * self.width\n",
    "    \n",
    "    def calculate_perimeter(self):\n",
    "        # Calculate and return the perimeter of the rectangle\n",
    "        return 2 * (self.length + self.width)\n",
    "\n",
    "# Example usage\n",
    "rectangle1 = Rectangle(10, 5)\n",
    "print(f\"Length: {rectangle1.length}\")\n",
    "print(f\"Width: {rectangle1.width}\")\n",
    "print(f\"Area: {rectangle1.calculate_area()}\")\n",
    "print(f\"Perimeter: {rectangle1.calculate_perimeter()}\")\n",
    "\n",
    "rectangle2 = Rectangle(7, 3)\n",
    "print(f\"Length: {rectangle2.length}\")\n",
    "print(f\"Width: {rectangle2.width}\")\n",
    "print(f\"Area: {rectangle2.calculate_area()}\")\n",
    "print(f\"Perimeter: {rectangle2.calculate_perimeter()}\")\n"
   ]
  },
  {
   "cell_type": "markdown",
   "id": "052b2add-013e-441e-b902-5be597ff4481",
   "metadata": {},
   "source": [
    "**Solution 39:  Implement a class Movie with instance variables for title, director, and rating. Use both default and parameterized constructors to initialize these variables.**"
   ]
  },
  {
   "cell_type": "code",
   "execution_count": 13,
   "id": "9cb66643-a0a1-4287-b1b4-ef4d6a1ad010",
   "metadata": {},
   "outputs": [
    {
     "name": "stdout",
     "output_type": "stream",
     "text": [
      "Title: Inception\n",
      "Director: Christopher Nolan\n",
      "Rating: 8.8\n",
      "\n",
      "Title: Unknown Title\n",
      "Director: Unknown Director\n",
      "Rating: 0.0\n"
     ]
    }
   ],
   "source": [
    "class Movie:\n",
    "    def __init__(self, title=\"Unknown Title\", director=\"Unknown Director\", rating=0.0):\n",
    "        # Instance variables\n",
    "        self.title = title\n",
    "        self.director = director\n",
    "        self.rating = rating\n",
    "    \n",
    "    def display_details(self):\n",
    "        # Method to display movie details\n",
    "        print(f\"Title: {self.title}\")\n",
    "        print(f\"Director: {self.director}\")\n",
    "        print(f\"Rating: {self.rating}\")\n",
    "\n",
    "# Example usage\n",
    "# Using parameterized constructor\n",
    "movie1 = Movie(\"Inception\", \"Christopher Nolan\", 8.8)\n",
    "movie1.display_details()\n",
    "\n",
    "print()\n",
    "\n",
    "# Using default constructor\n",
    "movie2 = Movie()\n",
    "movie2.display_details()"
   ]
  },
  {
   "cell_type": "markdown",
   "id": "5fe16e34-c277-4d74-95f3-e44611b97aa6",
   "metadata": {},
   "source": [
    "**Solution 40: Design a class BankAccount with class variable bank_name, instance variables for account holder name and balance, and methods for depositing, withdrawing, and displaying account details. Include a class method to change the bank name and a static method to validate account numbers.**\n"
   ]
  },
  {
   "cell_type": "code",
   "execution_count": 14,
   "id": "f27f7783-217e-4744-966d-ca2bfbd05f36",
   "metadata": {},
   "outputs": [
    {
     "name": "stdout",
     "output_type": "stream",
     "text": [
      "Bank: Default Bank\n",
      "Account Holder: Alice Johnson\n",
      "Balance: 500\n",
      "Deposited 200. New balance is 700.\n",
      "Withdrew 100. New balance is 600.\n",
      "Bank: Default Bank\n",
      "Account Holder: Alice Johnson\n",
      "Balance: 600\n",
      "Bank name changed to New Horizon Bank.\n",
      "Bank: New Horizon Bank\n",
      "Account Holder: Alice Johnson\n",
      "Balance: 600\n",
      "Account number is valid.\n",
      "Invalid account number. Must be a 10-digit number.\n"
     ]
    },
    {
     "data": {
      "text/plain": [
       "False"
      ]
     },
     "execution_count": 14,
     "metadata": {},
     "output_type": "execute_result"
    }
   ],
   "source": [
    "class BankAccount:\n",
    "    # Class variable\n",
    "    bank_name = \"Default Bank\"\n",
    "\n",
    "    def __init__(self, account_holder_name, balance=0):\n",
    "        # Instance variables\n",
    "        self.account_holder_name = account_holder_name\n",
    "        self.balance = balance\n",
    "\n",
    "    def deposit(self, amount):\n",
    "        # Method to deposit an amount into the account\n",
    "        if amount > 0:\n",
    "            self.balance += amount\n",
    "            print(f\"Deposited {amount}. New balance is {self.balance}.\")\n",
    "        else:\n",
    "            print(\"Deposit amount must be positive.\")\n",
    "\n",
    "    def withdraw(self, amount):\n",
    "        # Method to withdraw an amount from the account\n",
    "        if 0 < amount <= self.balance:\n",
    "            self.balance -= amount\n",
    "            print(f\"Withdrew {amount}. New balance is {self.balance}.\")\n",
    "        else:\n",
    "            print(\"Invalid withdrawal amount or insufficient balance.\")\n",
    "\n",
    "    def display_account_details(self):\n",
    "        # Method to display account details\n",
    "        print(f\"Bank: {BankAccount.bank_name}\")\n",
    "        print(f\"Account Holder: {self.account_holder_name}\")\n",
    "        print(f\"Balance: {self.balance}\")\n",
    "\n",
    "    @classmethod\n",
    "    def change_bank_name(cls, new_name):\n",
    "        # Class method to change the bank's name\n",
    "        cls.bank_name = new_name\n",
    "        print(f\"Bank name changed to {cls.bank_name}.\")\n",
    "\n",
    "    @staticmethod\n",
    "    def validate_account_number(account_number):\n",
    "        # Static method to validate account numbers (e.g., must be 10 digits)\n",
    "        if isinstance(account_number, int) and len(str(account_number)) == 10:\n",
    "            print(\"Account number is valid.\")\n",
    "            return True\n",
    "        else:\n",
    "            print(\"Invalid account number. Must be a 10-digit number.\")\n",
    "            return False\n",
    "\n",
    "# Example usage\n",
    "# Create a new account\n",
    "account1 = BankAccount(\"Alice Johnson\", 500)\n",
    "account1.display_account_details()\n",
    "\n",
    "# Deposit money\n",
    "account1.deposit(200)\n",
    "\n",
    "# Withdraw money\n",
    "account1.withdraw(100)\n",
    "\n",
    "# Display account details\n",
    "account1.display_account_details()\n",
    "\n",
    "# Change bank name\n",
    "BankAccount.change_bank_name(\"New Horizon Bank\")\n",
    "\n",
    "# Display account details again to see the updated bank name\n",
    "account1.display_account_details()\n",
    "\n",
    "# Validate account number\n",
    "BankAccount.validate_account_number(1234567890)\n",
    "BankAccount.validate_account_number(12345)\n"
   ]
  },
  {
   "cell_type": "markdown",
   "id": "5a01d248-c827-4af2-b13d-085334e7a78e",
   "metadata": {},
   "source": [
    "**Solution 41: Create a class Counter with a class variable count to track the number of instances created. Implement the __init__ method to increment this counter. Add a method to return a new Counter object initialized to the current count value.**"
   ]
  },
  {
   "cell_type": "code",
   "execution_count": 16,
   "id": "0358f448-e056-46f4-bbd7-8046a0288c80",
   "metadata": {},
   "outputs": [
    {
     "name": "stdout",
     "output_type": "stream",
     "text": [
      "Number of instances created: 0\n",
      "Number of instances created: 1\n",
      "Number of instances created: 2\n",
      "Number of instances created: 3\n"
     ]
    }
   ],
   "source": [
    "class Counter:\n",
    "    count = 0  # Class variable to track the number of instances created\n",
    "    \n",
    "    def __init__(self):\n",
    "        # Increment the counter when an instance is created\n",
    "        Counter.count += 1\n",
    "    \n",
    "    @classmethod\n",
    "    def get_instance_count(cls):\n",
    "        # Method to return the number of instances created\n",
    "        return cls.count\n",
    "    \n",
    "    @staticmethod\n",
    "    def create_counter_with_current_count():\n",
    "        # Static method to create and return a new Counter object and it will increment count.\n",
    "        return Counter()\n",
    "\n",
    "# Example usage\n",
    "print(\"Number of instances created:\", Counter.get_instance_count())  # Output: 0\n",
    "\n",
    "counter1 = Counter()\n",
    "print(\"Number of instances created:\", Counter.get_instance_count())  # Output: 1\n",
    "\n",
    "counter2 = Counter()\n",
    "print(\"Number of instances created:\", Counter.get_instance_count())  # Output: 2\n",
    "\n",
    "new_counter = Counter.create_counter_with_current_count()\n",
    "print(\"Number of instances created:\", Counter.get_instance_count())  # Output: 3"
   ]
  },
  {
   "cell_type": "markdown",
   "id": "25da2bde-9bd8-4610-88d9-478edd21f996",
   "metadata": {},
   "source": [
    "**Solution 42: Define a class Sentence with an instance variable text. Overload the + operator using __add__ to concatenate two Sentence objects. Create a method that returns a new Sentence object as a result of the concatenation.**"
   ]
  },
  {
   "cell_type": "code",
   "execution_count": 19,
   "id": "e0bd553d-7a0c-4d2b-9492-de9f3b31fb59",
   "metadata": {},
   "outputs": [
    {
     "name": "stdout",
     "output_type": "stream",
     "text": [
      "Hello, How are you?   I am good!!\n"
     ]
    }
   ],
   "source": [
    "class Sentence:\n",
    "    def __init__(self, text):\n",
    "        # Instance variable\n",
    "        self.text = text\n",
    "    \n",
    "    def __add__(self, other):\n",
    "        # Overloading the + operator to concatenate two Sentence objects\n",
    "        if isinstance(other, Sentence):\n",
    "            return Sentence(self.text + \" \" + other.text)\n",
    "        else:\n",
    "            raise TypeError(\"Unsupported operand type(s) for +: 'Sentence' and '{}'\".format(type(other)))\n",
    "\n",
    "    def display(self):\n",
    "        # Method to display the text of the Sentence\n",
    "        print(self.text)\n",
    "\n",
    "# Example usage\n",
    "sentence1 = Sentence(\"Hello, How are you? \")\n",
    "sentence2 = Sentence(\" I am good!!\")\n",
    "result = sentence1 + sentence2\n",
    "result.display()  "
   ]
  },
  {
   "cell_type": "markdown",
   "id": "f0cf36a4-46e1-4f8c-913c-9acc916d91ff",
   "metadata": {},
   "source": [
    "**Solution 43: Develop a program that defines a global variable count and a function increment that has a local variable count. Show how to use and differentiate between the global and local count variables.**"
   ]
  },
  {
   "cell_type": "code",
   "execution_count": 20,
   "id": "33ce626e-f5fe-4ee2-8947-a28a684148ed",
   "metadata": {},
   "outputs": [
    {
     "name": "stdout",
     "output_type": "stream",
     "text": [
      "Global count before calling increment function: 0\n",
      "Local count inside increment function: 5\n",
      "Global count after calling increment function: 0\n"
     ]
    }
   ],
   "source": [
    "# Global variable 'count'\n",
    "count = 0\n",
    "\n",
    "def increment():\n",
    "    # Local variable 'count'\n",
    "    count = 5\n",
    "    print(\"Local count inside increment function:\", count)\n",
    "\n",
    "# Display the global count variable before calling the function\n",
    "print(\"Global count before calling increment function:\", count)\n",
    "\n",
    "# Call the increment function\n",
    "increment()\n",
    "\n",
    "# Display the global count variable after calling the function\n",
    "print(\"Global count after calling increment function:\", count)"
   ]
  },
  {
   "cell_type": "markdown",
   "id": "1497e938-8228-4747-8451-2b5a491f87f8",
   "metadata": {},
   "source": [
    "**solution 44: Define a class ComplexNumber with instance variables real and imaginary. Create a function add_complex_numbers that takes two ComplexNumber objects as arguments and returns a new ComplexNumber object representing their sum.**"
   ]
  },
  {
   "cell_type": "code",
   "execution_count": 21,
   "id": "14d09a93-7304-4b19-b526-ccb21096471e",
   "metadata": {},
   "outputs": [
    {
     "name": "stdout",
     "output_type": "stream",
     "text": [
      "Sum: 8 + 6i\n"
     ]
    }
   ],
   "source": [
    "class ComplexNumber:\n",
    "    def __init__(self, real, imaginary):\n",
    "        # Instance variables\n",
    "        self.real = real\n",
    "        self.imaginary = imaginary\n",
    "    \n",
    "    def __str__(self):\n",
    "        # String representation of the complex number\n",
    "        return f\"{self.real} + {self.imaginary}i\"\n",
    "\n",
    "def add_complex_numbers(num1, num2):\n",
    "    # Function to add two ComplexNumber objects\n",
    "    real_sum = num1.real + num2.real\n",
    "    imaginary_sum = num1.imaginary + num2.imaginary\n",
    "    return ComplexNumber(real_sum, imaginary_sum)\n",
    "\n",
    "# Example usage\n",
    "complex_num1 = ComplexNumber(3, 4)\n",
    "complex_num2 = ComplexNumber(5, 2)\n",
    "\n",
    "result = add_complex_numbers(complex_num1, complex_num2)\n",
    "print(\"Sum:\", result)  # Output: 8 + 6i\n"
   ]
  },
  {
   "cell_type": "markdown",
   "id": "24ced6a8-fe26-4034-bb19-a51a278b7e44",
   "metadata": {},
   "source": [
    "**Solution 45: Define a class Distance to represent distances in kilometers and meters. Implement the __init__ method to initialize the object with distances in kilometers (km) and meters (m). Create a method add_distances to add two Distance objects and return a new Distance object representing their sum in kilometers and meters.**"
   ]
  },
  {
   "cell_type": "code",
   "execution_count": 22,
   "id": "0276a775-cace-44a9-bd36-f56831c8c0ce",
   "metadata": {},
   "outputs": [
    {
     "name": "stdout",
     "output_type": "stream",
     "text": [
      "Total distance: 6 km 300 m\n"
     ]
    }
   ],
   "source": [
    "class Distance:\n",
    "    def __init__(self, km=0, m=0):\n",
    "        # Initialize distances in kilometers and meters\n",
    "        self.km = km\n",
    "        self.m = m\n",
    "\n",
    "    def add_distances(self, other):\n",
    "        # Add distances and return a new Distance object\n",
    "        total_km = self.km + other.km\n",
    "        total_m = self.m + other.m\n",
    "\n",
    "        # Convert excess meters to kilometers if more than 1000 meters\n",
    "        if total_m >= 1000:\n",
    "            total_km += total_m // 1000\n",
    "            total_m %= 1000\n",
    "\n",
    "        return Distance(total_km, total_m)\n",
    "\n",
    "# Example usage\n",
    "distance1 = Distance(3, 500)\n",
    "distance2 = Distance(2, 800)\n",
    "\n",
    "total_distance = distance1.add_distances(distance2)\n",
    "print(\"Total distance:\", total_distance.km, \"km\", total_distance.m, \"m\")"
   ]
  },
  {
   "cell_type": "code",
   "execution_count": null,
   "id": "78d9abfb-33c5-49f2-a049-77135ad8fcd3",
   "metadata": {},
   "outputs": [],
   "source": []
  }
 ],
 "metadata": {
  "kernelspec": {
   "display_name": "Python 3 (ipykernel)",
   "language": "python",
   "name": "python3"
  },
  "language_info": {
   "codemirror_mode": {
    "name": "ipython",
    "version": 3
   },
   "file_extension": ".py",
   "mimetype": "text/x-python",
   "name": "python",
   "nbconvert_exporter": "python",
   "pygments_lexer": "ipython3",
   "version": "3.11.7"
  }
 },
 "nbformat": 4,
 "nbformat_minor": 5
}
