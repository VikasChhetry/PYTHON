{
 "cells": [
  {
   "cell_type": "markdown",
   "metadata": {},
   "source": [
    "Iterable: \n",
    "\n",
    "An object that can return an iterator. Examples include lists, tuples, strings, sets, and dictionaries.\n",
    "\n",
    "Iterator:\n",
    "\n",
    " An object that represents a stream of data; it returns the next element of the iterable when calling  __next__().\n",
    "\n",
    " __iter__() method: This method returns an iterator object.\n",
    " \n",
    "__next__()  "
   ]
  },
  {
   "cell_type": "code",
   "execution_count": null,
   "metadata": {},
   "outputs": [],
   "source": [
    "# s={1,2,3,4,5}\n",
    "# dir(s)\n",
    "# t=(1,2,3,4)\n",
    "# dir(t)\n",
    "l=[1,2,3,3,4]\n",
    "y=iter(l)\n",
    "dir(l)"
   ]
  },
  {
   "cell_type": "code",
   "execution_count": 25,
   "metadata": {},
   "outputs": [
    {
     "name": "stdout",
     "output_type": "stream",
     "text": [
      "<tuple_iterator object at 0x000001FB06425B70>\n",
      "('apple', 'banan', 'cherry')\n"
     ]
    }
   ],
   "source": [
    "mytuple = (\"apple\",\"banan\",\"cherry\")\n",
    "myit = iter(mytuple)\n",
    "\n",
    "dir(mytuple)\n",
    "print(myit)\n",
    "print(mytuple)"
   ]
  },
  {
   "cell_type": "code",
   "execution_count": 45,
   "metadata": {},
   "outputs": [
    {
     "name": "stdout",
     "output_type": "stream",
     "text": [
      "<generator object revst at 0x000001FB069828E0>\n"
     ]
    },
    {
     "data": {
      "text/plain": [
       "'i'"
      ]
     },
     "execution_count": 45,
     "metadata": {},
     "output_type": "execute_result"
    }
   ],
   "source": [
    "\n",
    "def revst(st):\n",
    "    for i in ((len(st)-1),-1,i):\n",
    "       yield st[i]\n",
    "       \n",
    "\n",
    "y=revst(\"vikaschhetri\")  \n",
    "print(y) \n",
    "next(y)\n",
    "next(y)\n",
    " \n",
    "\n",
    "\n",
    "\n",
    "       \n"
   ]
  },
  {
   "cell_type": "code",
   "execution_count": 8,
   "metadata": {},
   "outputs": [
    {
     "name": "stdout",
     "output_type": "stream",
     "text": [
      "4\n",
      "16\n",
      "36\n",
      "64\n",
      "100\n"
     ]
    }
   ],
   "source": [
    "class sq:\n",
    "    def __init__(self,a=0):\n",
    "        self.a = a\n",
    "\n",
    "    def __iter__ (self):\n",
    "        self.n=2   \n",
    "               #iterator bana s7kte hai\n",
    "        return self\n",
    "    def __next__(self):\n",
    "        if (self.n<=self.a):\n",
    "            result = self.n**2\n",
    "            self.n= self.n+2\n",
    "            return result   \n",
    "        else:\n",
    "      \n",
    "            raise StopIteration\n",
    "sq=sq(10) # here 6 is the value of m\n",
    "sqt=iter(sq)\n",
    "# print(next(sq))\n",
    "# print(next(sq))\n",
    "# print(next(sq))\n",
    "# print(next(sq))\n",
    "# print(next(sq))\n",
    "# print(next(sq))\n",
    "\n",
    "try:\n",
    "    while True:\n",
    "        print(next(sqt))\n",
    "except StopIteration:\n",
    "    pass\n",
    "\n",
    "\n",
    "\n"
   ]
  },
  {
   "cell_type": "code",
   "execution_count": 7,
   "metadata": {},
   "outputs": [
    {
     "name": "stdout",
     "output_type": "stream",
     "text": [
      "0\n",
      "1\n",
      "1\n",
      "2\n",
      "3\n",
      "5\n",
      "8\n",
      "13\n",
      "21\n",
      "34\n",
      "55\n",
      "89\n"
     ]
    }
   ],
   "source": [
    "# def _next_(self).\n",
    "\n",
    "#     if self.n <= self.m:\n",
    "#     if self.n == 1:\n",
    "#     self.n self.nl\n",
    "#     return self. a\n",
    "#     elif self.n == 2:\n",
    "#         self.n=self.n+1\n",
    "#         return self.b\n",
    "\n",
    "# else:\n",
    "#     self.c=self.a+self.b\n",
    "#     self.a=self.b\n",
    "#     self.b=self.c\n",
    "#     self.n=self.n+1\n",
    "#     return self.c\n",
    "\n",
    "# ...\n",
    "\n",
    "class Fibonacci:\n",
    "    def __init__(self, max_value=None):\n",
    "        self.max_value = max_value\n",
    "\n",
    "    def __iter__(self):\n",
    "        self.a, self.b = 0, 1  # Initialize the first two Fibonacci numbers\n",
    "        return self\n",
    "\n",
    "    def __next__(self):\n",
    "        fib = self.a\n",
    "        if self.max_value is not None and fib > self.max_value:\n",
    "            raise StopIteration\n",
    "        self.a, self.b = self.b, self.a + self.b  # Update the next Fibonacci numbers\n",
    "        return fib\n",
    "\n",
    "# Create an instance of the Fibonacci class with an optional max value\n",
    "fib_iterator = Fibonacci(100)  # Generate Fibonacci numbers up to 100\n",
    "\n",
    "# Iterate and print Fibonacci numbers\n",
    "for num in fib_iterator:\n",
    "    print(num)\n"
   ]
  },
  {
   "cell_type": "code",
   "execution_count": 6,
   "metadata": {},
   "outputs": [
    {
     "ename": "SyntaxError",
     "evalue": "invalid syntax (639611732.py, line 14)",
     "output_type": "error",
     "traceback": [
      "\u001b[1;36m  Cell \u001b[1;32mIn[6], line 14\u001b[1;36m\u001b[0m\n\u001b[1;33m    else:\u001b[0m\n\u001b[1;37m    ^\u001b[0m\n\u001b[1;31mSyntaxError\u001b[0m\u001b[1;31m:\u001b[0m invalid syntax\n"
     ]
    }
   ],
   "source": [
    "\n",
    "class alpa:\n",
    "\n",
    "    def __init__(self,m):\n",
    "        self.m=m\n",
    "    def __iter__(self):\n",
    "        self.n=0\n",
    "    return self\n",
    "    def __next__(self):\n",
    "        if self.n< self.m:\n",
    "            self.a=chr(self.n+65)\n",
    "            self.n+=1\n",
    "        return self.a\n",
    "        \n",
    "        else:\n",
    "\n",
    "            raise StopIteration\n",
    "        \n",
    "\n",
    "\n"
   ]
  },
  {
   "cell_type": "markdown",
   "metadata": {},
   "source": [
    "GENERATOR >>>>>>> same a s Iterator\n",
    "\n",
    "there is no need to make a class in generator \\\\\\\n",
    "\n",
    "but in gen.. we have to replace return >< to yield"
   ]
  },
  {
   "cell_type": "code",
   "execution_count": 42,
   "metadata": {},
   "outputs": [
    {
     "name": "stdout",
     "output_type": "stream",
     "text": [
      "<generator object my_gen at 0x000001FB06981630>\n",
      "1\n"
     ]
    },
    {
     "data": {
      "text/plain": [
       "3"
      ]
     },
     "execution_count": 42,
     "metadata": {},
     "output_type": "execute_result"
    }
   ],
   "source": [
    "\n",
    "# Generator\n",
    "#A generator is a special type of iterator in Python.\n",
    "#It is defined using a function or a generator expression and\n",
    "# returning the entire sequence at once.generates a sequence of values lazily, one at a time, instead of creating\n",
    "\n",
    "def my_gen():\n",
    "    for i in range(1,10):\n",
    "        yield i \n",
    "    \n",
    "y=my_gen()\n",
    "print(y) \n",
    "print(next(y))  \n",
    "next(y)   \n",
    "next(y)  "
   ]
  }
 ],
 "metadata": {
  "kernelspec": {
   "display_name": ".venv",
   "language": "python",
   "name": "python3"
  },
  "language_info": {
   "codemirror_mode": {
    "name": "ipython",
    "version": 3
   },
   "file_extension": ".py",
   "mimetype": "text/x-python",
   "name": "python",
   "nbconvert_exporter": "python",
   "pygments_lexer": "ipython3",
   "version": "3.12.4"
  }
 },
 "nbformat": 4,
 "nbformat_minor": 2
}
