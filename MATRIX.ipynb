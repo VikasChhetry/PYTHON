{
 "cells": [
  {
   "cell_type": "markdown",
   "metadata": {},
   "source": [
    "INDEXING: ACCESSING ARRAY ELEMENTS"
   ]
  },
  {
   "cell_type": "code",
   "execution_count": 4,
   "metadata": {},
   "outputs": [],
   "source": [
    "import numpy as np"
   ]
  },
  {
   "cell_type": "code",
   "execution_count": 7,
   "metadata": {},
   "outputs": [
    {
     "name": "stdout",
     "output_type": "stream",
     "text": [
      "Requirement already satisfied: numpy in d:\\python\\.venv\\lib\\site-packages (2.0.0)\n"
     ]
    }
   ],
   "source": [
    "!pip install numpy"
   ]
  },
  {
   "cell_type": "code",
   "execution_count": 10,
   "metadata": {},
   "outputs": [
    {
     "name": "stdout",
     "output_type": "stream",
     "text": [
      "[10 11 12 13 14 15 16 17 18 19 20]\n",
      "15\n",
      "19\n",
      "10 11 12 13 14 15 16 17 18 19 20 \n",
      "10 11 12 13 14 15 16 17 18 19 20 \n"
     ]
    }
   ],
   "source": [
    "arr=np.array(range(10,21),np.int8)\n",
    "print(arr)\n",
    "print(arr[5])\n",
    "print(arr[-2])\n",
    "#Traverse array by index\n",
    "for i in range(len(arr)):\n",
    "    print(arr[i],end=\" \")\n",
    "print()\n",
    "for item in arr:\n",
    "    print(item,end=\" \")\n",
    "print()    \n",
    "#Travers array by item index    "
   ]
  },
  {
   "cell_type": "code",
   "execution_count": 11,
   "metadata": {},
   "outputs": [
    {
     "name": "stdout",
     "output_type": "stream",
     "text": [
      "[[1 2 3]\n",
      " [4 5 6]]\n",
      "2\n",
      "6\n"
     ]
    }
   ],
   "source": [
    "import numpy as np\n",
    "arr=np.array([[1,2,3],[4,5,6]],np.int8)\n",
    "print(arr)\n",
    "print(arr[0,1])\n",
    "print(arr[1][2])"
   ]
  },
  {
   "cell_type": "code",
   "execution_count": 3,
   "metadata": {},
   "outputs": [
    {
     "name": "stdout",
     "output_type": "stream",
     "text": [
      "[[1 2 3]\n",
      " [4 5 6]]\n",
      "2\n",
      "6\n"
     ]
    }
   ],
   "source": [
    "import numpy as np\n",
    "arr=np.array([[1,2,3],[4,5,6]],np.int8)\n",
    "print(arr)\n",
    "print(arr[0,1])\n",
    "print(arr[1][2])"
   ]
  },
  {
   "cell_type": "code",
   "execution_count": null,
   "metadata": {},
   "outputs": [],
   "source": [
    "import numpy as np\n",
    "arr=np.array([12,34,56,78,3,5,2,7,8,9,11,10,15])\n",
    "print(arr)\n",
    "print(arr[3:10])"
   ]
  },
  {
   "cell_type": "code",
   "execution_count": 5,
   "metadata": {},
   "outputs": [
    {
     "name": "stdout",
     "output_type": "stream",
     "text": [
      "[[ 4  8 12  1  3]\n",
      " [ 6  8 11  2  6]\n",
      " [-1  6  7  8  9]\n",
      " [ 2  7  8  1  7]]\n",
      "[[11  2]\n",
      " [ 7  8]]\n",
      "[[6 7]]\n"
     ]
    }
   ],
   "source": [
    "#slicing 2d\n",
    "arr2=np.array([[4,8,12,1,3],[6,8,11,2,6],[-1,6,7,8,9],[2,7,8,1,7]])\n",
    "print(arr2)\n",
    "#1.matrix of row1 and row2 2.matrix of col2 and col3\n",
    "print(arr2[1:3,2:4])\n",
    "print(arr2[-2:-1,-4:-2])"
   ]
  },
  {
   "cell_type": "code",
   "execution_count": 6,
   "metadata": {},
   "outputs": [
    {
     "name": "stdout",
     "output_type": "stream",
     "text": [
      "[[[ 1  2]\n",
      "  [ 3  4]\n",
      "  [ 5  6]]\n",
      "\n",
      " [[ 7  8]\n",
      "  [ 9 10]\n",
      "  [11 12]]\n",
      "\n",
      " [[13 14]\n",
      "  [15 16]\n",
      "  [17 18]]]\n",
      "[[[10]\n",
      "  [12]]\n",
      "\n",
      " [[16]\n",
      "  [18]]]\n"
     ]
    }
   ],
   "source": [
    "import numpy as np\n",
    "arr3=np.array([[[1,2],[3,4],[5,6]],[[7,8],[9,10],[11,12]],[[13,14],[15,16],[17,18]]])\n",
    "print(arr3)\n",
    "print(arr3[1:3,1:3,1:])"
   ]
  },
  {
   "cell_type": "code",
   "execution_count": 7,
   "metadata": {},
   "outputs": [
    {
     "name": "stdout",
     "output_type": "stream",
     "text": [
      "[12 13 14 15 16 17 18 19 20 21 22 23]\n",
      "[16 17 18 19]\n",
      "[ 16  17 100  19]\n",
      "[ 12  13  14  15  16  17 100  19  20  21  22  23]\n"
     ]
    }
   ],
   "source": [
    "arr1=np.array([12,13,14,15,16,17,18,19,20,21,22,23])\n",
    "print(arr1)\n",
    "b=arr1[4:8]\n",
    "print(b)\n",
    "b[2]=100\n",
    "print(b) #view\n",
    "print(arr1)"
   ]
  },
  {
   "cell_type": "markdown",
   "metadata": {},
   "source": [
    "RESHAPE>>>.FOR more than 2or 3 dimension number\n"
   ]
  },
  {
   "cell_type": "code",
   "execution_count": 24,
   "metadata": {},
   "outputs": [
    {
     "name": "stdout",
     "output_type": "stream",
     "text": [
      "[ 0  1  2  3  4  5  6  7  8  9 10 11 12 13 14]\n",
      "[[ 0  1  2  3  4]\n",
      " [ 5  6  7  8  9]\n",
      " [10 11 12 13 14]]\n"
     ]
    }
   ],
   "source": [
    "import numpy as np\n",
    "a=np.arange(15)\n",
    "print(a)\n",
    "a2=a.reshape(3,5)\n",
    "print(a2)"
   ]
  },
  {
   "cell_type": "markdown",
   "metadata": {},
   "source": [
    "RESIZE"
   ]
  },
  {
   "cell_type": "code",
   "execution_count": 19,
   "metadata": {},
   "outputs": [
    {
     "name": "stdout",
     "output_type": "stream",
     "text": [
      "[ 0  1  2  3  4  5  6  7  8  9 10 11]\n",
      "[[0 1]\n",
      " [2 3]\n",
      " [4 5]]\n"
     ]
    }
   ],
   "source": [
    "arr=np.arange(12)\n",
    "print(arr)\n",
    "arr.resize(3,2)\n",
    "print(arr)"
   ]
  },
  {
   "cell_type": "code",
   "execution_count": 34,
   "metadata": {},
   "outputs": [
    {
     "name": "stdout",
     "output_type": "stream",
     "text": [
      "[[0 0 0 0 0]\n",
      " [0 0 0 0 0]\n",
      " [0 0 0 0 0]]\n",
      "int32\n",
      "[[[1 1]\n",
      "  [1 1]\n",
      "  [1 1]\n",
      "  [1 1]\n",
      "  [1 1]]\n",
      "\n",
      " [[1 1]\n",
      "  [1 1]\n",
      "  [1 1]\n",
      "  [1 1]\n",
      "  [1 1]]]\n",
      "[[1. 0. 0.]\n",
      " [0. 1. 0.]\n",
      " [0. 0. 1.]]\n",
      "[[1. 0. 0. 0.]\n",
      " [0. 1. 0. 0.]\n",
      " [0. 0. 1. 0.]]\n",
      "[1.  1.8 2.6 3.4 4.2 5. ]\n",
      "[[ 0  1  2  3]\n",
      " [ 4  5  6  7]\n",
      " [ 8  9 10 11]]\n",
      "[ 0  1  2  3  4  5  6  7  8  9 10 11]\n",
      "[[  0   1   2   3]\n",
      " [200   5   6   7]\n",
      " [  8   9  10  11]]\n",
      "[  0   1   2   3 200   5   6   7   8   9  10  11]\n"
     ]
    }
   ],
   "source": [
    "#USING ZEROS MATRIX\n",
    "a=np.zeros((3,5),dtype=np.int32)\n",
    "print(a)\n",
    "print(a.dtype)\n",
    "\n",
    "#USING ONSE MATRIX\n",
    "a=np.ones((2,5,2),dtype=np.int32)\n",
    "print(a)\n",
    "\n",
    "#IDENTITY MATRIX\n",
    "a=np.identity(3)\n",
    "print(a)\n",
    "#USING EYE() MATRIX\n",
    "a=np.eye(3,4)\n",
    "print(a)\n",
    "#USING LINESPACE() FUNCTION\n",
    "a=np.linspace(1,5,6)\n",
    "print(a)\n",
    "\n",
    "#USING RAVEL() METHOD  yee 3 or2 dimentional arrey ko 1 dimention array me bedal de ta hai\n",
    "a=np.arange(12).reshape(3,4)\n",
    "print(a)\n",
    "a2=np.ravel(a)\n",
    "print(a2)\n",
    "a2[4]=200\n",
    "print(a)\n",
    "print(a2)\n",
    "\n",
    "##\n",
    "a=np.random.randint(2,10,size=(3,5,4))\n",
    "print(a)\n",
    "\n"
   ]
  },
  {
   "cell_type": "markdown",
   "metadata": {},
   "source": [
    "REPLICATION,JOINING,EXISTING ARRAYS"
   ]
  },
  {
   "cell_type": "code",
   "execution_count": 42,
   "metadata": {},
   "outputs": [
    {
     "name": "stdout",
     "output_type": "stream",
     "text": [
      "[[ 5  6  7  8]\n",
      " [ 9 10 11 12]\n",
      " [13 14 15 16]]\n",
      "[[14 15]]\n",
      "[[ 14 200]]\n",
      "[[  5   6   7   8]\n",
      " [  9  10  11  12]\n",
      " [ 13  14 200  16]]\n",
      "[[ 5  6  7  8]\n",
      " [ 9 10 11 12]\n",
      " [13 14 15 16]]\n",
      "[[14 15]]\n",
      "[[ 14 200]]\n",
      "[[ 5  6  7  8]\n",
      " [ 9 10 11 12]\n",
      " [13 14 15 16]]\n"
     ]
    }
   ],
   "source": [
    "a=np.arange(5,17).reshape((3,4))\n",
    "print(a)\n",
    "b=a[2:,1:3]\n",
    "print(b)\n",
    "b[0][1]=200\n",
    "print(b)\n",
    "print(a)\n",
    "##################\n",
    "a=np.arange(5,17).reshape((3,4))\n",
    "print(a)\n",
    "b=a[2:,1:3].copy()\n",
    "print(b)\n",
    "b[0][1]=200\n",
    "print(b)\n",
    "print(a)\n"
   ]
  },
  {
   "cell_type": "markdown",
   "metadata": {},
   "source": [
    "JOINING TOW ARRAYS\n",
    "1>>np.hstack()\n",
    "2>>np.vstack()\n",
    "3>>np.block()"
   ]
  },
  {
   "cell_type": "markdown",
   "metadata": {},
   "source": [
    "np.hstack()"
   ]
  },
  {
   "cell_type": "code",
   "execution_count": 48,
   "metadata": {},
   "outputs": [
    {
     "name": "stdout",
     "output_type": "stream",
     "text": [
      "[[ 6  7  8]\n",
      " [ 9 10 11]]\n",
      "[[0 1 2 3]\n",
      " [4 5 6 7]]\n",
      "[[ 6  7  8  0  1  2  3]\n",
      " [ 9 10 11  4  5  6  7]]\n"
     ]
    }
   ],
   "source": [
    "a=np.arange(6,12).reshape(2,3)\n",
    "print(a)\n",
    "a2=np.arange(8).reshape(2,4)\n",
    "print(a2)\n",
    "a3=np.hstack((a,a2))\n",
    "print(a3)"
   ]
  },
  {
   "cell_type": "markdown",
   "metadata": {},
   "source": [
    "np.vstack()"
   ]
  },
  {
   "cell_type": "code",
   "execution_count": 55,
   "metadata": {},
   "outputs": [
    {
     "name": "stdout",
     "output_type": "stream",
     "text": [
      "[[ 6  7  8]\n",
      " [ 9 10 11]]\n",
      "[[0 1 2]\n",
      " [3 4 5]\n",
      " [6 7 8]]\n",
      "[[ 6  7  8]\n",
      " [ 9 10 11]\n",
      " [ 0  1  2]\n",
      " [ 3  4  5]\n",
      " [ 6  7  8]]\n"
     ]
    }
   ],
   "source": [
    "a=np.arange(6,12).reshape(2,3)\n",
    "print(a)\n",
    "a2=np.arange(12).reshape(3,3)\n",
    "print(a2)\n",
    "a3=np.vstack([a,a2])\n",
    "print(a3)"
   ]
  },
  {
   "cell_type": "code",
   "execution_count": 56,
   "metadata": {},
   "outputs": [
    {
     "name": "stdout",
     "output_type": "stream",
     "text": [
      "[ 0  1  2  3  4  5  6  7  8  9 10 11 12 13 14]\n",
      "[array([0, 1, 2]), array([3, 4, 5]), array([6, 7, 8]), array([ 9, 10, 11]), array([12, 13, 14])]\n"
     ]
    }
   ],
   "source": [
    "#split()\n",
    "a=np.arange(15)\n",
    "b=np.split(a,5)\n",
    "print(a)\n",
    "print(b)"
   ]
  },
  {
   "cell_type": "code",
   "execution_count": 57,
   "metadata": {},
   "outputs": [
    {
     "name": "stdout",
     "output_type": "stream",
     "text": [
      "[34 35 36 37 38 39 40 41 42 43 44 45 46 47 48]\n",
      "[array([34, 35, 36]), array([37, 38]), array([39, 40, 41, 42, 43]), array([44, 45, 46]), array([47, 48])]\n",
      "105\n",
      "75\n",
      "205\n",
      "135\n",
      "95\n"
     ]
    }
   ],
   "source": [
    "a=np.arange(34,49)\n",
    "b=np.split(a,[3,5,10,13])  #List of subarrays\n",
    "print(a)\n",
    "print(b)\n",
    "for arr in b:\n",
    "    print(arr.sum())"
   ]
  },
  {
   "cell_type": "code",
   "execution_count": 2,
   "metadata": {},
   "outputs": [],
   "source": [
    "import numpy as np"
   ]
  },
  {
   "cell_type": "code",
   "execution_count": 9,
   "metadata": {},
   "outputs": [
    {
     "name": "stdout",
     "output_type": "stream",
     "text": [
      "[12 56 23 11]\n",
      "[3 0 2 1]\n",
      "[12 56 23 11]\n",
      "3\n",
      "[12 56 23 11]\n",
      "1\n",
      "[12 56 23 11]\n",
      "[11 12 23 56]\n",
      "[[12 56 23 11]\n",
      " [ 7  3  1 61]]\n",
      "61\n",
      "[12 56 23 61]\n",
      "[56 61]\n"
     ]
    }
   ],
   "source": [
    "a=np.array([12,56,23,11])\n",
    "print(a)\n",
    "print(a.argsort())\n",
    "################################\n",
    "a=np.array([12,56,23,11])\n",
    "print(a)\n",
    "print(a.argmin())\n",
    "################################\n",
    "a=np.array([12,56,23,11])\n",
    "print(a)\n",
    "print(a.argmax())\n",
    "################################\n",
    "a=np.array([12,56,23,11])\n",
    "print(a)\n",
    "a.sort()\n",
    "print(a)\n"
   ]
  },
  {
   "cell_type": "code",
   "execution_count": 12,
   "metadata": {},
   "outputs": [
    {
     "name": "stdout",
     "output_type": "stream",
     "text": [
      "[[12 56 23 11]\n",
      " [ 7  3  1 61]]\n",
      "61\n",
      "[12 56 23 61]\n",
      "[56 61]\n"
     ]
    }
   ],
   "source": [
    "import numpy as np\n",
    "a=np.array([[12,56,23,11],[7,3,1,61]])\n",
    "print(a)\n",
    "print(a.max())\n",
    "print(a.max(axis=0))  #column wise \n",
    "print(a.max(axis=1))  #row wise"
   ]
  },
  {
   "cell_type": "markdown",
   "metadata": {},
   "source": [
    "ARATHMATIC OPRATION IN ARRAY\n"
   ]
  },
  {
   "cell_type": "code",
   "execution_count": 13,
   "metadata": {},
   "outputs": [
    {
     "name": "stdout",
     "output_type": "stream",
     "text": [
      "[[1 6 7]\n",
      " [2 5 3]\n",
      " [1 5 8]]\n",
      "[[ 6 11 12]\n",
      " [ 7 10  8]\n",
      " [ 6 10 13]]\n",
      "[[-2  3  4]\n",
      " [-1  2  0]\n",
      " [-2  2  5]]\n",
      "[[ 4 24 28]\n",
      " [ 8 20 12]\n",
      " [ 4 20 32]]\n",
      "[[0.2 1.2 1.4]\n",
      " [0.4 1.  0.6]\n",
      " [0.2 1.  1.6]]\n"
     ]
    }
   ],
   "source": [
    "a=np.array([[1,6,7],[2,5,3],[1,5,8]])\n",
    "print(a)\n",
    "print(a+5)\n",
    "print(a-3)\n",
    "print(a*4)\n",
    "print(a/5)"
   ]
  },
  {
   "cell_type": "code",
   "execution_count": 14,
   "metadata": {},
   "outputs": [
    {
     "name": "stdout",
     "output_type": "stream",
     "text": [
      "[[0 1]\n",
      " [2 3]\n",
      " [4 5]]\n",
      "[[0 2 4]\n",
      " [1 3 5]]\n"
     ]
    }
   ],
   "source": [
    "#transpose of a matrix\n",
    "a=np.arange(6).reshape(3,2)\n",
    "print(a)\n",
    "print(a.T)"
   ]
  },
  {
   "cell_type": "code",
   "execution_count": 19,
   "metadata": {},
   "outputs": [
    {
     "name": "stdout",
     "output_type": "stream",
     "text": [
      "[[0 1 2]\n",
      " [3 4 5]]\n",
      "[[ 1  2]\n",
      " [ 2  1]\n",
      " [-1  2]]\n",
      "[[ 0  5]\n",
      " [ 6 20]]\n"
     ]
    }
   ],
   "source": [
    "a=np.arange(6).reshape(2,3)\n",
    "a2=np.array([[1,2],[2,1],[-1,2]])\n",
    "print(a)\n",
    "print(a2)\n",
    "# a3=np.dot(a,a2)\n",
    "#or use\n",
    "a3=a@a2\n",
    "print(a3)"
   ]
  },
  {
   "cell_type": "code",
   "execution_count": 21,
   "metadata": {},
   "outputs": [
    {
     "name": "stdout",
     "output_type": "stream",
     "text": [
      "[[2 3]\n",
      " [4 1]]\n",
      "-10\n"
     ]
    }
   ],
   "source": [
    "#determinent of the matrix\n",
    "#linalg:Linear algebra function\n",
    "a=np.array([[2,3],[4,1]])\n",
    "print(a)\n",
    "print(int(np.linalg.det(a)))"
   ]
  },
  {
   "cell_type": "code",
   "execution_count": 25,
   "metadata": {},
   "outputs": [],
   "source": [
    "import pandas as pd"
   ]
  },
  {
   "cell_type": "code",
   "execution_count": 26,
   "metadata": {},
   "outputs": [
    {
     "name": "stdout",
     "output_type": "stream",
     "text": [
      "Requirement already satisfied: pandas in d:\\python\\.venv\\lib\\site-packages (2.2.2)\n",
      "Requirement already satisfied: numpy>=1.26.0 in d:\\python\\.venv\\lib\\site-packages (from pandas) (2.0.0)\n",
      "Requirement already satisfied: python-dateutil>=2.8.2 in d:\\python\\.venv\\lib\\site-packages (from pandas) (2.9.0.post0)\n",
      "Requirement already satisfied: pytz>=2020.1 in d:\\python\\.venv\\lib\\site-packages (from pandas) (2024.1)\n",
      "Requirement already satisfied: tzdata>=2022.7 in d:\\python\\.venv\\lib\\site-packages (from pandas) (2024.1)\n",
      "Requirement already satisfied: six>=1.5 in d:\\python\\.venv\\lib\\site-packages (from python-dateutil>=2.8.2->pandas) (1.16.0)\n"
     ]
    }
   ],
   "source": [
    "!pip install pandas"
   ]
  },
  {
   "cell_type": "code",
   "execution_count": 1,
   "metadata": {},
   "outputs": [],
   "source": [
    "import pandas as pd"
   ]
  }
 ],
 "metadata": {
  "kernelspec": {
   "display_name": ".venv",
   "language": "python",
   "name": "python3"
  },
  "language_info": {
   "codemirror_mode": {
    "name": "ipython",
    "version": 3
   },
   "file_extension": ".py",
   "mimetype": "text/x-python",
   "name": "python",
   "nbconvert_exporter": "python",
   "pygments_lexer": "ipython3",
   "version": "3.12.4"
  }
 },
 "nbformat": 4,
 "nbformat_minor": 2
}
